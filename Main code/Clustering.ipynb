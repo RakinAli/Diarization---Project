{
 "cells": [
  {
   "cell_type": "markdown",
   "metadata": {},
   "source": [
    "# Custom clustering\n",
    "In this code we attempt to do custom clustering on the data. We will use the following steps:\n",
    "- Preprocessing the data    \n",
    "    - Get melspectogram of audio with 80 features per mel-frame. \n",
    "\n"
   ]
  },
  {
   "cell_type": "code",
   "execution_count": null,
   "metadata": {},
   "outputs": [],
   "source": [
    "# All the imports\n",
    "\n",
    "# Torch imports\n",
    "import torch.nn as nn\n",
    "from torchaudio.sox_effects import apply_effects_tensor\n",
    "from torchaudio.transforms import MelSpectrogram\n",
    "from preprocess import Wav2Mel\n",
    "from scipy.spatial.distance import pdist, squareform\n",
    "\n",
    "# Other imports\n",
    "from matplotlib import pyplot as plt\n",
    "from sklearn.cluster import KMeans\n",
    "\n",
    "# Other imports\n",
    "import numpy as np\n",
    "from pprint import pprint"
   ]
  },
  {
   "cell_type": "code",
   "execution_count": null,
   "metadata": {},
   "outputs": [],
   "source": [
    "# Global variables used for preprocessing\n",
    "SAMPLE_RATE = 16000\n",
    "NORM_DB = -3\n",
    "FFT_WINDOW_MS = 25\n",
    "FFT_HOP_MS = 10"
   ]
  },
  {
   "cell_type": "code",
   "execution_count": 2,
   "metadata": {},
   "outputs": [],
   "source": [
    "# Load the models\n",
    "\n",
    "# Pre-trained Dvector model --> Embedding model\n",
    "\n"
   ]
  },
  {
   "cell_type": "code",
   "execution_count": null,
   "metadata": {},
   "outputs": [],
   "source": []
  }
 ],
 "metadata": {
  "kernelspec": {
   "display_name": "nemo",
   "language": "python",
   "name": "python3"
  },
  "language_info": {
   "codemirror_mode": {
    "name": "ipython",
    "version": 3
   },
   "file_extension": ".py",
   "mimetype": "text/x-python",
   "name": "python",
   "nbconvert_exporter": "python",
   "pygments_lexer": "ipython3",
   "version": "3.11.7"
  }
 },
 "nbformat": 4,
 "nbformat_minor": 2
}
