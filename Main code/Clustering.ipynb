{
 "cells": [
  {
   "cell_type": "markdown",
   "metadata": {},
   "source": [
    "# Custom clustering\n",
    "In this code we attempt to do custom clustering on the data. We will use the following steps:\n",
    "- Preprocessing the data    \n",
    "    - Get melspectogram of audio with 80 features per mel-frame. \n",
    "\n"
   ]
  },
  {
   "cell_type": "code",
   "execution_count": null,
   "metadata": {},
   "outputs": [],
   "source": [
    "# All the imports\n",
    "\n",
    "# Torch imports\n",
    "import torch.nn as nn\n",
    "from torchaudio.sox_effects import apply_effects_tensor\n",
    "from torchaudio.transforms import MelSpectrogram\n",
    "from preprocessing import Wav2Mel\n",
    "from scipy.spatial.distance import pdist, squareform"
   ]
  }
 ],
 "metadata": {
  "kernelspec": {
   "display_name": "nemo",
   "language": "python",
   "name": "python3"
  },
  "language_info": {
   "name": "python",
   "version": "3.11.7"
  }
 },
 "nbformat": 4,
 "nbformat_minor": 2
}
