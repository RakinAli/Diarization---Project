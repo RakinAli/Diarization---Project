{
 "cells": [
  {
   "cell_type": "markdown",
   "metadata": {},
   "source": [
    "# Nvidia nemo\n",
    "This code runs speaker diarization from Nvidia Nemo"
   ]
  },
  {
   "cell_type": "code",
   "execution_count": 1,
   "metadata": {},
   "outputs": [
    {
     "name": "stdout",
     "output_type": "stream",
     "text": [
      "PyTorch version: 2.3.0\n",
      "CUDA version: 11.8\n"
     ]
    }
   ],
   "source": [
    "# check which torch versiopn\n",
    "import torch\n",
    "\n",
    "def check_pytorch_cuda_versions():\n",
    "    # Check PyTorch version\n",
    "    pytorch_version = torch.__version__\n",
    "    print(f\"PyTorch version: {pytorch_version}\")\n",
    "    \n",
    "    # Check if CUDA is available and its version\n",
    "    cuda_available = torch.cuda.is_available()\n",
    "    if cuda_available:\n",
    "        cuda_version = torch.version.cuda\n",
    "        print(f\"CUDA version: {cuda_version}\")\n",
    "    else:\n",
    "        print(\"CUDA is not available\")\n",
    "\n",
    "if __name__ == \"__main__\":\n",
    "    check_pytorch_cuda_versions()"
   ]
  },
  {
   "cell_type": "code",
   "execution_count": 2,
   "metadata": {},
   "outputs": [
    {
     "name": "stderr",
     "output_type": "stream",
     "text": [
      "/opt/conda/envs/nemo/lib/python3.10/site-packages/transformers/utils/hub.py:124: FutureWarning: Using `TRANSFORMERS_CACHE` is deprecated and will be removed in v5 of Transformers. Use `HF_HOME` instead.\n",
      "  warnings.warn(\n"
     ]
    }
   ],
   "source": [
    "from nemo.collections.asr.parts.utils.speaker_utils import rttm_to_labels, labels_to_pyannote_object\n"
   ]
  },
  {
   "cell_type": "code",
   "execution_count": null,
   "metadata": {},
   "outputs": [],
   "source": [
    "# Test around\n",
    "\n"
   ]
  }
 ],
 "metadata": {
  "kernelspec": {
   "display_name": "Python 3",
   "language": "python",
   "name": "python3"
  },
  "language_info": {
   "codemirror_mode": {
    "name": "ipython",
    "version": 3
   },
   "file_extension": ".py",
   "mimetype": "text/x-python",
   "name": "python",
   "nbconvert_exporter": "python",
   "pygments_lexer": "ipython3",
   "version": "3.10.12"
  }
 },
 "nbformat": 4,
 "nbformat_minor": 2
}
