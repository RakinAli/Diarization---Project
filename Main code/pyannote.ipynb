{
 "cells": [
  {
   "cell_type": "markdown",
   "metadata": {},
   "source": [
    "# Speaker diarization.\n",
    "Here we are running the Diarization pipeline on the test set and evaluating the results using the provided ground truth.\n",
    "    "
   ]
  },
  {
   "cell_type": "markdown",
   "metadata": {},
   "source": [
    "### All imports "
   ]
  },
  {
   "cell_type": "code",
   "execution_count": 46,
   "metadata": {},
   "outputs": [],
   "source": [
    "# Typical imports\n",
    "from tqdm import tqdm\n",
    "import numpy as np\n",
    "import torch\n",
    "import torch.nn as nn\n",
    "import matplotlib.pyplot as plt\n",
    "import os\n",
    "from dotenv import load_dotenv\n",
    "import speechbrain as sb\n",
    "import torchaudio\n",
    "\n",
    "# Scipy\n",
    "from scipy.spatial.distance import cdist\n",
    "\n",
    "\n",
    "# All Pyannote imports\n",
    "from pyannote.audio import Pipeline\n",
    "from pyannote.core import Segment, Annotation\n",
    "from pyannote.audio import Model, Inference\n",
    "from pyannote.audio import Audio\n",
    "from pyannote.audio.pipelines.utils.hook import ProgressHook\n",
    "\n",
    "# Loading the envs\n",
    "load_dotenv(\"auths.env\")\n",
    "api_key = os.getenv(\"API_KEY\")"
   ]
  },
  {
   "cell_type": "code",
   "execution_count": 55,
   "metadata": {},
   "outputs": [
    {
     "name": "stderr",
     "output_type": "stream",
     "text": [
      "100%|██████████| 232/232 [1:30:39<00:00, 23.45s/it]     \n"
     ]
    }
   ],
   "source": [
    "# Setting up the path to the test\n",
    "test_audio = \"../Dataset/Audio/Test\"\n",
    "test_rttm = \"../Dataset/RTTMs/Test\"\n",
    "output_file_path = \"../Results/Diarization_pipeline\"\n",
    "\n",
    "# Ensure the output directory exists\n",
    "os.makedirs(output_file_path, exist_ok=True)\n",
    "\n",
    "# Load the pipeline model\n",
    "pipeline = Pipeline.from_pretrained(\n",
    "    \"pyannote/speaker-diarization-3.1\", use_auth_token=api_key\n",
    ")\n",
    "pipeline.to(torch.device(\"cuda\"))\n",
    "\n",
    "# Prepare an empty annotation to store hypothesis results\n",
    "hypothesis_annotation = {}\n",
    "\n",
    "# Iterate over all the test audio files and get the diarization results. Output them as RTTMs.\n",
    "for audio_file in tqdm(os.listdir(test_audio)):\n",
    "    if audio_file.endswith(\".wav\"):\n",
    "        # Get the audio file path\n",
    "        audio_file_path = os.path.join(test_audio, audio_file)\n",
    "        # Get the rttm file path\n",
    "        rttm_file_path = os.path.join(test_rttm, audio_file.replace(\".wav\", \".rttm\"))\n",
    "\n",
    "        # Load the audio file\n",
    "        waveform, sample_rate = torchaudio.load(audio_file_path)\n",
    "\n",
    "        # Process the audio file with the diarization pipeline\n",
    "        diarization = pipeline({\"waveform\": waveform, \"sample_rate\": sample_rate})\n",
    "\n",
    "        # Create the output file path\n",
    "        file_output_name = os.path.join(\n",
    "            output_file_path, audio_file.replace(\".wav\", \".rttm\")\n",
    "        )\n",
    "\n",
    "        # Save the diarization results as an RTTM file\n",
    "        with open(file_output_name, \"w\") as f:\n",
    "            diarization.write_rttm(f)"
   ]
  },
  {
   "cell_type": "markdown",
   "metadata": {},
   "source": [
    "### Calculate the diarization error rate\n",
    "- Calculate DER using the provided ground truth and the output of the diarization pipeline.\n",
    "- Calculate purity, coverage, and diarization error rate for each file in the test set.\n",
    "- Calculate the average purity, coverage, and diarization error rate for the entire test set.\n",
    "\n"
   ]
  },
  {
   "cell_type": "code",
   "execution_count": 56,
   "metadata": {},
   "outputs": [
    {
     "ename": "TypeError",
     "evalue": "'module' object is not callable",
     "output_type": "error",
     "traceback": [
      "\u001b[1;31m---------------------------------------------------------------------------\u001b[0m",
      "\u001b[1;31mTypeError\u001b[0m                                 Traceback (most recent call last)",
      "Cell \u001b[1;32mIn[56], line 2\u001b[0m\n\u001b[0;32m      1\u001b[0m \u001b[38;5;66;03m# Calculate DER using the provided truth and output of the pipeline\u001b[39;00m\n\u001b[1;32m----> 2\u001b[0m der \u001b[38;5;241m=\u001b[39m sb\u001b[38;5;241m.\u001b[39mutils\u001b[38;5;241m.\u001b[39mDER()\n\u001b[0;32m      3\u001b[0m der_score \u001b[38;5;241m=\u001b[39m der(reference_rttm\u001b[38;5;241m=\u001b[39mtest_rttm, hypothesis_rttm\u001b[38;5;241m=\u001b[39moutput_file_path)\n\u001b[0;32m      4\u001b[0m \u001b[38;5;28mprint\u001b[39m(\u001b[38;5;124mf\u001b[39m\u001b[38;5;124m\"\u001b[39m\u001b[38;5;124mDER: \u001b[39m\u001b[38;5;132;01m{\u001b[39;00mder_score\u001b[38;5;132;01m}\u001b[39;00m\u001b[38;5;124m\"\u001b[39m)\n",
      "\u001b[1;31mTypeError\u001b[0m: 'module' object is not callable"
     ]
    }
   ],
   "source": [
    "# Calculate DER using the provided truth and output of the pipeline"
   ]
  }
 ],
 "metadata": {
  "kernelspec": {
   "display_name": "base",
   "language": "python",
   "name": "python3"
  },
  "language_info": {
   "codemirror_mode": {
    "name": "ipython",
    "version": 3
   },
   "file_extension": ".py",
   "mimetype": "text/x-python",
   "name": "python",
   "nbconvert_exporter": "python",
   "pygments_lexer": "ipython3",
   "version": "3.11.7"
  }
 },
 "nbformat": 4,
 "nbformat_minor": 2
}
