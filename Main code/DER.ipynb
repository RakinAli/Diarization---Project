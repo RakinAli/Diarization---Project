{
 "cells": [
  {
   "cell_type": "markdown",
   "metadata": {},
   "source": [
    "# DER calculation\n",
    "This file is used to calculate Diarization Error Rate. It is calculated as follows:\n",
    "1. For each speaker, we calculate the number of false alarms, missed detections and overlapped speech.\n",
    "2. We sum up the number of false alarms, missed detections and overlapped speech.\n",
    "3. We divide the sum by the total number of speaker speech segments.\n",
    "4. The result is the DER.\n",
    "\n",
    "The formula is as follows:\n",
    "$$\n",
    "DER = \\frac{FA + MISS + OVER}{N_{spk}}\n",
    "$$\n",
    "\n",
    "Where:\n",
    "- $FA$ is the number of false alarms\n",
    "- $MISS$ is the number of missed detections\n",
    "- $OVER$ is the number of overlapped speech\n",
    "- $N_{spk}$ is the total number of speaker speech segments\n",
    "\n",
    "The code below is used to calculate the DER."
   ]
  },
  {
   "cell_type": "code",
   "execution_count": 4,
   "metadata": {},
   "outputs": [],
   "source": [
    "import pandas as pd\n",
    "from pyannote.core import Annotation, Segment\n",
    "from pyannote.metrics.diarization import DiarizationErrorRate\n",
    "import os\n",
    "from tqdm import tqdm\n",
    "import sys\n",
    "import matplotlib.pyplot as plt\n",
    "\n",
    "from pyannote.core import Annotation, Segment\n",
    "import warnings\n",
    "warnings.filterwarnings(\n",
    "    \"ignore\",\n",
    "    message=\"'uem' was approximated by the union of 'reference' and 'hypothesis' extents\",\n",
    ")\n",
    "\n",
    "\n",
    "\"../Results/Diarization_pipeline\"\n",
    "# Paths to the different RTTM files\n",
    "RTTM_TRUTH = \"../Dataset/RTTMs/Test\"\n",
    "\n",
    "# Prebuilt diarization pipeline\n",
    "RTTM_ORACLE_VAD = \"../Results/Nemo without MSD/Test\"\n",
    "RTTM_ORACLE_DECODER = \"../Results/Nemo with MSDD/Test\"\n",
    "RTTM_PYANNOTE = \"../Results/Pyannote/Test\"\n",
    "\n",
    "# Custom pipeline diarization results --> All of them ran on test directly\n",
    "RTTM_ESCAPA_AHC = \"../Results/Custom pipeline/ecapa_ahc\"\n",
    "RTTM_ESCAPA_SC = \"../Results/Custom pipeline/ecapa_sc\"\n",
    "RTTM_XVECTOR_AHC = \"../Results/Custom pipeline/xvec_ahc\"\n",
    "RTTM_XVECTOR_SC = \"../Results/Custom pipeline/xvec_sc\"\n",
    "\n",
    "\n",
    "RESULTS_DIRECTORY = \"../Results/DER Results\"\n",
    "IMAGE_DIRECTORY = \"../Images/RTTM_vis/\"\n",
    "\n",
    "\n",
    "def rttm_to_annotation(rttm_file):\n",
    "    annotation = Annotation()\n",
    "\n",
    "    with open(rttm_file, \"r\") as file:\n",
    "        for line in file:\n",
    "            parts = line.strip().split()\n",
    "            if len(parts) != 10:\n",
    "                continue\n",
    "\n",
    "            speaker = parts[7]\n",
    "            start_time = float(parts[3])\n",
    "            duration = float(parts[4])\n",
    "            end_time = start_time + duration\n",
    "\n",
    "            annotation[Segment(start_time, end_time)] = speaker\n",
    "\n",
    "    return annotation\n",
    "\n",
    "\n",
    "def plot_annotations(ground_truth, predicted, output_file, title=\"Annotation Plot\"):\n",
    "    fig, (ax1, ax2) = plt.subplots(2, 1, figsize=(10, 6), sharex=True)\n",
    "\n",
    "    # Plot predicted labels\n",
    "    for segment, track, label in predicted.itertracks(yield_label=True):\n",
    "        ax1.plot([segment.start, segment.end], [label, label], lw=6)\n",
    "    ax1.set_ylabel(\"Predicted\")\n",
    "    ax1.set_yticks(list(set(predicted.labels())))\n",
    "    ax1.set_yticklabels(list(set(predicted.labels())))\n",
    "    ax1.set_title(f\"{title} - Predicted\")\n",
    "\n",
    "    # Plot ground truth labels\n",
    "    for segment, track, label in ground_truth.itertracks(yield_label=True):\n",
    "        ax2.plot([segment.start, segment.end], [label, label], lw=6)\n",
    "    ax2.set_xlabel(\"Time (s)\")\n",
    "    ax2.set_ylabel(\"Ground Truth\")\n",
    "    ax2.set_yticks(list(set(ground_truth.labels())))\n",
    "    ax2.set_yticklabels(list(set(ground_truth.labels())))\n",
    "    ax2.set_title(f\"{title} - Ground Truth\")\n",
    "\n",
    "    plt.tight_layout()\n",
    "    output_file = os.path.join(output_file, title + \".png\")\n",
    "    plt.savefig(output_file)\n",
    "    plt.close()\n",
    "\n",
    "\n",
    "# Load the RTTM files\n",
    "def load_rttm(filename):\n",
    "    \"\"\"Load RTTM file and convert it to pyannote.core.Annotation\"\"\"\n",
    "    annotation = Annotation()\n",
    "    with open(filename, \"r\") as file:\n",
    "        for line in file:\n",
    "            parts = line.strip().split()\n",
    "            if len(parts) < 9:\n",
    "                continue\n",
    "            file_id, channel, start_time, duration, _, _, *speaker_parts = parts\n",
    "            speaker = \" \".join(speaker_parts)\n",
    "            start_time = float(start_time)\n",
    "            duration = float(duration)\n",
    "            end_time = start_time + duration\n",
    "            segment = Segment(start_time, end_time)\n",
    "            annotation[segment] = speaker\n",
    "    return annotation\n",
    "\n",
    "\n",
    "def calculate_der_metrics(\n",
    "    ground_truth_path, prediction_path, image_directory, output_csv=\"der_results.csv\"\n",
    "):\n",
    "    \"\"\"\n",
    "    This function calculates DER metrics for diarization and saves them to a CSV file,\n",
    "    including a row with average metrics.\n",
    "\n",
    "    Args:\n",
    "        ground_truth_path: Path to the directory containing ground truth RTTM files.\n",
    "        prediction_path: Path to the directory containing prediction RTTM files.\n",
    "        image_directory: Directory to save the output images.\n",
    "        output_csv: Path (including filename) for the output CSV file. Defaults to \"der_results.csv\" if not provided.\n",
    "    \"\"\"\n",
    "\n",
    "    # Initialize the diarization error rate metric\n",
    "    der_metric = DiarizationErrorRate(skip_overlap=True)\n",
    "\n",
    "    # Store results\n",
    "    results = []\n",
    "    total_der = 0\n",
    "    total_miss_duration = 0\n",
    "    total_speaker_error_duration = 0\n",
    "    total_false_alarm_duration = 0\n",
    "    total_duration = 0\n",
    "\n",
    "    # Iterate over files in prediction directory\n",
    "    for file_name in tqdm(os.listdir(prediction_path)):\n",
    "        truth_file = os.path.join(ground_truth_path, file_name)\n",
    "        prediction_file = os.path.join(prediction_path, file_name)\n",
    "\n",
    "        if os.path.exists(truth_file) and os.path.exists(prediction_file):\n",
    "            ground_truth = rttm_to_annotation(truth_file)\n",
    "            prediction = rttm_to_annotation(prediction_file)\n",
    "\n",
    "            # Calculate DER and components manually\n",
    "            detailed = der_metric(ground_truth, prediction, detailed=True)\n",
    "            der = detailed[\"diarization error rate\"]\n",
    "\n",
    "            # if DER is greater than 1, there is an error in the file. Skip the file.\n",
    "            if der > 1:\n",
    "                print(f\"DER for {file_name} is greater than 1. Check the files.\")\n",
    "                continue\n",
    "\n",
    "            confusion_duration = detailed[\"confusion\"]\n",
    "            false_alarm = detailed[\"false alarm\"]\n",
    "            missed_speech = detailed[\"missed detection\"]\n",
    "            total_file_duration = detailed[\"total\"]\n",
    "\n",
    "            # Accumulate totals for average calculation\n",
    "            total_der += der\n",
    "            total_miss_duration += missed_speech\n",
    "            total_speaker_error_duration += confusion_duration\n",
    "            total_false_alarm_duration += false_alarm\n",
    "            total_duration += total_file_duration\n",
    "\n",
    "            # Append results for this file\n",
    "            results.append(\n",
    "                {\n",
    "                    \"File\": file_name,\n",
    "                    \"DER\": der,\n",
    "                    \"Miss Duration\": missed_speech / total_file_duration,\n",
    "                    \"Speaker Error Duration\": confusion_duration / total_file_duration,\n",
    "                    \"False Alarm Duration\": false_alarm / total_file_duration,\n",
    "                }\n",
    "            )\n",
    "            # Plot the ground truth and prediction\n",
    "            plot_annotations(ground_truth, prediction, IMAGE_DIRECTORY, title=file_name)\n",
    "        else:\n",
    "            print(f\"File {file_name} not found\")\n",
    "            print(\"Looked at path: \", prediction_file)\n",
    "            sys.exit(1)  # Exit with an error if a file is missing\n",
    "\n",
    "    # Calculate average metrics (assuming all files have processed)\n",
    "    if total_duration > 0:  # Avoid division by zero\n",
    "        average_der = total_der / len(results)\n",
    "        average_miss_duration = total_miss_duration / total_duration\n",
    "        average_speaker_error_duration = total_speaker_error_duration / total_duration\n",
    "        average_false_alarm_duration = total_false_alarm_duration / total_duration\n",
    "\n",
    "        # Create a dictionary for average metrics\n",
    "        average_metrics = {\n",
    "            \"File\": \"Average\",\n",
    "            \"DER\": average_der,\n",
    "            \"Miss Duration\": average_miss_duration,\n",
    "            \"Speaker Error Duration\": average_speaker_error_duration,\n",
    "            \"False Alarm Duration\": average_false_alarm_duration,\n",
    "        }\n",
    "\n",
    "        # Append average metrics to results\n",
    "        results.append(average_metrics)\n",
    "\n",
    "    # Convert results to DataFrame and save to CSV\n",
    "    results_df = pd.DataFrame(results)\n",
    "    results_df.to_csv(output_csv, index=False)"
   ]
  },
  {
   "cell_type": "code",
   "execution_count": 11,
   "metadata": {},
   "outputs": [
    {
     "name": "stderr",
     "output_type": "stream",
     "text": [
      "  0%|          | 0/232 [00:00<?, ?it/s]"
     ]
    },
    {
     "name": "stdout",
     "output_type": "stream",
     "text": [
      "DER for aepyx.rttm is greater than 1. Check the files.\n"
     ]
    },
    {
     "name": "stderr",
     "output_type": "stream",
     "text": [
      "  2%|▏         | 4/232 [00:01<01:36,  2.36it/s]"
     ]
    },
    {
     "name": "stdout",
     "output_type": "stream",
     "text": [
      "DER for aorju.rttm is greater than 1. Check the files.\n"
     ]
    },
    {
     "name": "stderr",
     "output_type": "stream",
     "text": [
      "  3%|▎         | 6/232 [00:03<02:39,  1.41it/s]"
     ]
    },
    {
     "name": "stdout",
     "output_type": "stream",
     "text": [
      "DER for bgvvt.rttm is greater than 1. Check the files.\n"
     ]
    },
    {
     "name": "stderr",
     "output_type": "stream",
     "text": [
      "  3%|▎         | 7/232 [00:04<02:11,  1.71it/s]"
     ]
    },
    {
     "name": "stdout",
     "output_type": "stream",
     "text": [
      "DER for bidnq.rttm is greater than 1. Check the files.\n",
      "DER for bjruf.rttm is greater than 1. Check the files.\n"
     ]
    },
    {
     "name": "stderr",
     "output_type": "stream",
     "text": [
      "  4%|▍         | 9/232 [00:04<01:24,  2.63it/s]"
     ]
    },
    {
     "name": "stdout",
     "output_type": "stream",
     "text": [
      "DER for bmsyn.rttm is greater than 1. Check the files.\n"
     ]
    },
    {
     "name": "stderr",
     "output_type": "stream",
     "text": [
      "  4%|▍         | 10/232 [00:04<01:20,  2.76it/s]"
     ]
    },
    {
     "name": "stdout",
     "output_type": "stream",
     "text": [
      "DER for bpzsc.rttm is greater than 1. Check the files.\n"
     ]
    },
    {
     "name": "stderr",
     "output_type": "stream",
     "text": [
      "  6%|▌         | 13/232 [00:09<03:14,  1.13it/s]"
     ]
    },
    {
     "name": "stdout",
     "output_type": "stream",
     "text": [
      "DER for byapz.rttm is greater than 1. Check the files.\n"
     ]
    },
    {
     "name": "stderr",
     "output_type": "stream",
     "text": [
      "  7%|▋         | 16/232 [00:10<02:07,  1.70it/s]"
     ]
    },
    {
     "name": "stdout",
     "output_type": "stream",
     "text": [
      "DER for cawnd.rttm is greater than 1. Check the files.\n"
     ]
    },
    {
     "name": "stderr",
     "output_type": "stream",
     "text": [
      "  9%|▊         | 20/232 [00:16<04:45,  1.34s/it]"
     ]
    },
    {
     "name": "stdout",
     "output_type": "stream",
     "text": [
      "DER for crylr.rttm is greater than 1. Check the files.\n"
     ]
    },
    {
     "name": "stderr",
     "output_type": "stream",
     "text": [
      "  9%|▉         | 22/232 [00:16<02:53,  1.21it/s]"
     ]
    },
    {
     "name": "stdout",
     "output_type": "stream",
     "text": [
      "DER for cvofp.rttm is greater than 1. Check the files.\n"
     ]
    },
    {
     "name": "stderr",
     "output_type": "stream",
     "text": [
      " 10%|█         | 24/232 [00:17<02:03,  1.68it/s]"
     ]
    },
    {
     "name": "stdout",
     "output_type": "stream",
     "text": [
      "DER for dgvwu.rttm is greater than 1. Check the files.\n"
     ]
    },
    {
     "name": "stderr",
     "output_type": "stream",
     "text": [
      " 11%|█         | 25/232 [00:18<01:59,  1.73it/s]"
     ]
    },
    {
     "name": "stdout",
     "output_type": "stream",
     "text": [
      "DER for diysk.rttm is greater than 1. Check the files.\n"
     ]
    },
    {
     "name": "stderr",
     "output_type": "stream",
     "text": [
      " 11%|█         | 26/232 [00:18<01:41,  2.03it/s]"
     ]
    },
    {
     "name": "stdout",
     "output_type": "stream",
     "text": [
      "DER for dkabn.rttm is greater than 1. Check the files.\n"
     ]
    },
    {
     "name": "stderr",
     "output_type": "stream",
     "text": [
      " 13%|█▎        | 30/232 [00:22<01:55,  1.75it/s]"
     ]
    },
    {
     "name": "stdout",
     "output_type": "stream",
     "text": [
      "DER for duvox.rttm is greater than 1. Check the files.\n",
      "DER for dxbbt.rttm is greater than 1. Check the files.\n"
     ]
    },
    {
     "name": "stderr",
     "output_type": "stream",
     "text": [
      " 14%|█▍        | 32/232 [00:23<01:50,  1.81it/s]"
     ]
    },
    {
     "name": "stdout",
     "output_type": "stream",
     "text": [
      "DER for dzxut.rttm is greater than 1. Check the files.\n"
     ]
    },
    {
     "name": "stderr",
     "output_type": "stream",
     "text": [
      " 15%|█▍        | 34/232 [00:23<01:31,  2.16it/s]"
     ]
    },
    {
     "name": "stdout",
     "output_type": "stream",
     "text": [
      "DER for eauve.rttm is greater than 1. Check the files.\n"
     ]
    },
    {
     "name": "stderr",
     "output_type": "stream",
     "text": [
      " 15%|█▌        | 35/232 [00:24<01:24,  2.33it/s]"
     ]
    },
    {
     "name": "stdout",
     "output_type": "stream",
     "text": [
      "DER for eddje.rttm is greater than 1. Check the files.\n"
     ]
    },
    {
     "name": "stderr",
     "output_type": "stream",
     "text": [
      " 17%|█▋        | 39/232 [00:25<01:20,  2.39it/s]"
     ]
    },
    {
     "name": "stdout",
     "output_type": "stream",
     "text": [
      "DER for epygx.rttm is greater than 1. Check the files.\n"
     ]
    },
    {
     "name": "stderr",
     "output_type": "stream",
     "text": [
      " 17%|█▋        | 40/232 [00:26<01:15,  2.55it/s]"
     ]
    },
    {
     "name": "stdout",
     "output_type": "stream",
     "text": [
      "DER for eqsta.rttm is greater than 1. Check the files.\n",
      "DER for erslt.rttm is greater than 1. Check the files.\n"
     ]
    },
    {
     "name": "stderr",
     "output_type": "stream",
     "text": [
      " 18%|█▊        | 42/232 [00:26<00:56,  3.34it/s]"
     ]
    },
    {
     "name": "stdout",
     "output_type": "stream",
     "text": [
      "DER for euqef.rttm is greater than 1. Check the files.\n"
     ]
    },
    {
     "name": "stderr",
     "output_type": "stream",
     "text": [
      " 20%|█▉        | 46/232 [00:27<00:55,  3.38it/s]"
     ]
    },
    {
     "name": "stdout",
     "output_type": "stream",
     "text": [
      "DER for fijfi.rttm is greater than 1. Check the files.\n",
      "DER for fowhl.rttm is greater than 1. Check the files.\n"
     ]
    },
    {
     "name": "stderr",
     "output_type": "stream",
     "text": [
      " 22%|██▏       | 52/232 [00:29<00:40,  4.45it/s]"
     ]
    },
    {
     "name": "stdout",
     "output_type": "stream",
     "text": [
      "DER for fvhrk.rttm is greater than 1. Check the files.\n",
      "DER for fxnwf.rttm is greater than 1. Check the files.\n",
      "DER for fyqoe.rttm is greater than 1. Check the files.\n",
      "DER for fzwtp.rttm is greater than 1. Check the files.\n"
     ]
    },
    {
     "name": "stderr",
     "output_type": "stream",
     "text": [
      " 23%|██▎       | 54/232 [00:29<00:27,  6.37it/s]"
     ]
    },
    {
     "name": "stdout",
     "output_type": "stream",
     "text": [
      "DER for gcfwp.rttm is greater than 1. Check the files.\n"
     ]
    },
    {
     "name": "stderr",
     "output_type": "stream",
     "text": [
      " 24%|██▍       | 56/232 [00:30<00:29,  6.05it/s]"
     ]
    },
    {
     "name": "stdout",
     "output_type": "stream",
     "text": [
      "DER for gcvrb.rttm is greater than 1. Check the files.\n",
      "DER for gfneh.rttm is greater than 1. Check the files.\n"
     ]
    },
    {
     "name": "stderr",
     "output_type": "stream",
     "text": [
      " 25%|██▍       | 57/232 [00:30<00:36,  4.82it/s]"
     ]
    },
    {
     "name": "stdout",
     "output_type": "stream",
     "text": [
      "DER for gmmwm.rttm is greater than 1. Check the files.\n"
     ]
    },
    {
     "name": "stderr",
     "output_type": "stream",
     "text": [
      " 27%|██▋       | 63/232 [00:38<02:16,  1.24it/s]"
     ]
    },
    {
     "name": "stdout",
     "output_type": "stream",
     "text": [
      "DER for guvqf.rttm is greater than 1. Check the files.\n",
      "DER for gwloo.rttm is greater than 1. Check the files.\n"
     ]
    },
    {
     "name": "stderr",
     "output_type": "stream",
     "text": [
      " 28%|██▊       | 66/232 [00:40<01:47,  1.54it/s]"
     ]
    },
    {
     "name": "stdout",
     "output_type": "stream",
     "text": [
      "DER for gzhwb.rttm is greater than 1. Check the files.\n"
     ]
    },
    {
     "name": "stderr",
     "output_type": "stream",
     "text": [
      " 29%|██▉       | 68/232 [00:41<01:41,  1.62it/s]"
     ]
    },
    {
     "name": "stdout",
     "output_type": "stream",
     "text": [
      "DER for heolf.rttm is greater than 1. Check the files.\n"
     ]
    },
    {
     "name": "stderr",
     "output_type": "stream",
     "text": [
      " 30%|██▉       | 69/232 [00:42<01:27,  1.87it/s]"
     ]
    },
    {
     "name": "stdout",
     "output_type": "stream",
     "text": [
      "DER for hhepf.rttm is greater than 1. Check the files.\n"
     ]
    },
    {
     "name": "stderr",
     "output_type": "stream",
     "text": [
      " 30%|███       | 70/232 [00:42<01:15,  2.13it/s]"
     ]
    },
    {
     "name": "stdout",
     "output_type": "stream",
     "text": [
      "DER for hqhrb.rttm is greater than 1. Check the files.\n",
      "DER for iabca.rttm is greater than 1. Check the files.\n"
     ]
    },
    {
     "name": "stderr",
     "output_type": "stream",
     "text": [
      " 31%|███       | 72/232 [00:42<00:51,  3.08it/s]"
     ]
    },
    {
     "name": "stdout",
     "output_type": "stream",
     "text": [
      "DER for iacod.rttm is greater than 1. Check the files.\n"
     ]
    },
    {
     "name": "stderr",
     "output_type": "stream",
     "text": [
      " 31%|███▏      | 73/232 [00:43<00:51,  3.06it/s]"
     ]
    },
    {
     "name": "stdout",
     "output_type": "stream",
     "text": [
      "DER for ibrnm.rttm is greater than 1. Check the files.\n"
     ]
    },
    {
     "name": "stderr",
     "output_type": "stream",
     "text": [
      " 33%|███▎      | 76/232 [00:44<01:01,  2.53it/s]"
     ]
    },
    {
     "name": "stdout",
     "output_type": "stream",
     "text": [
      "DER for iiprr.rttm is greater than 1. Check the files.\n",
      "DER for ikhje.rttm is greater than 1. Check the files.\n"
     ]
    },
    {
     "name": "stderr",
     "output_type": "stream",
     "text": [
      " 33%|███▎      | 77/232 [00:45<00:57,  2.70it/s]"
     ]
    },
    {
     "name": "stdout",
     "output_type": "stream",
     "text": [
      "DER for iowob.rttm is greater than 1. Check the files.\n"
     ]
    },
    {
     "name": "stderr",
     "output_type": "stream",
     "text": [
      " 34%|███▍      | 80/232 [00:46<01:19,  1.92it/s]"
     ]
    },
    {
     "name": "stdout",
     "output_type": "stream",
     "text": [
      "DER for jbowg.rttm is greater than 1. Check the files.\n"
     ]
    },
    {
     "name": "stderr",
     "output_type": "stream",
     "text": [
      " 35%|███▍      | 81/232 [00:47<01:11,  2.13it/s]"
     ]
    },
    {
     "name": "stdout",
     "output_type": "stream",
     "text": [
      "DER for jdrwl.rttm is greater than 1. Check the files.\n"
     ]
    },
    {
     "name": "stderr",
     "output_type": "stream",
     "text": [
      " 36%|███▌      | 83/232 [00:51<02:39,  1.07s/it]"
     ]
    },
    {
     "name": "stdout",
     "output_type": "stream",
     "text": [
      "DER for jgiyq.rttm is greater than 1. Check the files.\n"
     ]
    },
    {
     "name": "stderr",
     "output_type": "stream",
     "text": [
      " 36%|███▌      | 84/232 [00:51<02:02,  1.20it/s]"
     ]
    },
    {
     "name": "stdout",
     "output_type": "stream",
     "text": [
      "DER for jjkrt.rttm is greater than 1. Check the files.\n"
     ]
    },
    {
     "name": "stderr",
     "output_type": "stream",
     "text": [
      " 38%|███▊      | 87/232 [00:55<02:58,  1.23s/it]"
     ]
    },
    {
     "name": "stdout",
     "output_type": "stream",
     "text": [
      "DER for jsbdo.rttm is greater than 1. Check the files.\n"
     ]
    },
    {
     "name": "stderr",
     "output_type": "stream",
     "text": [
      " 38%|███▊      | 88/232 [00:56<02:15,  1.06it/s]"
     ]
    },
    {
     "name": "stdout",
     "output_type": "stream",
     "text": [
      "DER for jsymf.rttm is greater than 1. Check the files.\n"
     ]
    },
    {
     "name": "stderr",
     "output_type": "stream",
     "text": [
      " 39%|███▉      | 91/232 [00:58<01:38,  1.43it/s]"
     ]
    },
    {
     "name": "stdout",
     "output_type": "stream",
     "text": [
      "DER for jwggf.rttm is greater than 1. Check the files.\n",
      "DER for jxpom.rttm is greater than 1. Check the files.\n"
     ]
    },
    {
     "name": "stderr",
     "output_type": "stream",
     "text": [
      " 40%|████      | 93/232 [00:59<01:16,  1.81it/s]"
     ]
    },
    {
     "name": "stdout",
     "output_type": "stream",
     "text": [
      "DER for jzkzt.rttm is greater than 1. Check the files.\n"
     ]
    },
    {
     "name": "stderr",
     "output_type": "stream",
     "text": [
      " 41%|████      | 94/232 [00:59<01:03,  2.19it/s]"
     ]
    },
    {
     "name": "stdout",
     "output_type": "stream",
     "text": [
      "DER for kajfh.rttm is greater than 1. Check the files.\n"
     ]
    },
    {
     "name": "stderr",
     "output_type": "stream",
     "text": [
      " 41%|████      | 95/232 [00:59<00:57,  2.40it/s]"
     ]
    },
    {
     "name": "stdout",
     "output_type": "stream",
     "text": [
      "DER for kgjaa.rttm is greater than 1. Check the files.\n",
      "DER for kmjvh.rttm is greater than 1. Check the files.\n"
     ]
    },
    {
     "name": "stderr",
     "output_type": "stream",
     "text": [
      " 43%|████▎     | 99/232 [01:01<00:57,  2.30it/s]"
     ]
    },
    {
     "name": "stdout",
     "output_type": "stream",
     "text": [
      "DER for ktvto.rttm is greater than 1. Check the files.\n"
     ]
    },
    {
     "name": "stderr",
     "output_type": "stream",
     "text": [
      " 44%|████▎     | 101/232 [01:02<00:55,  2.37it/s]"
     ]
    },
    {
     "name": "stdout",
     "output_type": "stream",
     "text": [
      "DER for kvkje.rttm is greater than 1. Check the files.\n",
      "DER for kzmyi.rttm is greater than 1. Check the files.\n"
     ]
    },
    {
     "name": "stderr",
     "output_type": "stream",
     "text": [
      " 44%|████▍     | 103/232 [01:03<01:01,  2.11it/s]"
     ]
    },
    {
     "name": "stdout",
     "output_type": "stream",
     "text": [
      "DER for lbfnx.rttm is greater than 1. Check the files.\n"
     ]
    },
    {
     "name": "stderr",
     "output_type": "stream",
     "text": [
      " 45%|████▍     | 104/232 [01:05<01:25,  1.50it/s]"
     ]
    },
    {
     "name": "stdout",
     "output_type": "stream",
     "text": [
      "DER for leneg.rttm is greater than 1. Check the files.\n"
     ]
    },
    {
     "name": "stderr",
     "output_type": "stream",
     "text": [
      " 46%|████▌     | 106/232 [01:05<00:55,  2.25it/s]"
     ]
    },
    {
     "name": "stdout",
     "output_type": "stream",
     "text": [
      "DER for lhuly.rttm is greater than 1. Check the files.\n"
     ]
    },
    {
     "name": "stderr",
     "output_type": "stream",
     "text": [
      " 46%|████▌     | 107/232 [01:06<01:00,  2.08it/s]"
     ]
    },
    {
     "name": "stdout",
     "output_type": "stream",
     "text": [
      "DER for ljpes.rttm is greater than 1. Check the files.\n"
     ]
    },
    {
     "name": "stderr",
     "output_type": "stream",
     "text": [
      " 47%|████▋     | 110/232 [01:06<00:37,  3.27it/s]"
     ]
    },
    {
     "name": "stdout",
     "output_type": "stream",
     "text": [
      "DER for lkikz.rttm is greater than 1. Check the files.\n",
      "DER for lpola.rttm is greater than 1. Check the files.\n"
     ]
    },
    {
     "name": "stderr",
     "output_type": "stream",
     "text": [
      " 48%|████▊     | 111/232 [01:06<00:34,  3.53it/s]"
     ]
    },
    {
     "name": "stdout",
     "output_type": "stream",
     "text": [
      "DER for lscfc.rttm is greater than 1. Check the files.\n"
     ]
    },
    {
     "name": "stderr",
     "output_type": "stream",
     "text": [
      " 49%|████▊     | 113/232 [01:07<00:37,  3.22it/s]"
     ]
    },
    {
     "name": "stdout",
     "output_type": "stream",
     "text": [
      "DER for luobn.rttm is greater than 1. Check the files.\n"
     ]
    },
    {
     "name": "stderr",
     "output_type": "stream",
     "text": [
      " 50%|█████     | 117/232 [01:09<00:46,  2.47it/s]"
     ]
    },
    {
     "name": "stdout",
     "output_type": "stream",
     "text": [
      "DER for mhwyr.rttm is greater than 1. Check the files.\n"
     ]
    },
    {
     "name": "stderr",
     "output_type": "stream",
     "text": [
      " 51%|█████▏    | 119/232 [01:10<00:51,  2.17it/s]"
     ]
    },
    {
     "name": "stdout",
     "output_type": "stream",
     "text": [
      "DER for mkhie.rttm is greater than 1. Check the files.\n"
     ]
    },
    {
     "name": "stderr",
     "output_type": "stream",
     "text": [
      " 53%|█████▎    | 123/232 [01:11<00:26,  4.06it/s]"
     ]
    },
    {
     "name": "stdout",
     "output_type": "stream",
     "text": [
      "DER for mupzb.rttm is greater than 1. Check the files.\n",
      "DER for mxdpo.rttm is greater than 1. Check the files.\n"
     ]
    },
    {
     "name": "stderr",
     "output_type": "stream",
     "text": [
      " 53%|█████▎    | 124/232 [01:11<00:27,  3.86it/s]"
     ]
    },
    {
     "name": "stdout",
     "output_type": "stream",
     "text": [
      "DER for mxduo.rttm is greater than 1. Check the files.\n"
     ]
    },
    {
     "name": "stderr",
     "output_type": "stream",
     "text": [
      " 54%|█████▍    | 126/232 [01:12<00:36,  2.87it/s]"
     ]
    },
    {
     "name": "stdout",
     "output_type": "stream",
     "text": [
      "DER for myjoe.rttm is greater than 1. Check the files.\n"
     ]
    },
    {
     "name": "stderr",
     "output_type": "stream",
     "text": [
      " 55%|█████▌    | 128/232 [01:16<01:40,  1.03it/s]"
     ]
    },
    {
     "name": "stdout",
     "output_type": "stream",
     "text": [
      "DER for nkqzr.rttm is greater than 1. Check the files.\n"
     ]
    },
    {
     "name": "stderr",
     "output_type": "stream",
     "text": [
      " 56%|█████▌    | 129/232 [01:16<01:19,  1.29it/s]"
     ]
    },
    {
     "name": "stdout",
     "output_type": "stream",
     "text": [
      "DER for nlvdr.rttm is greater than 1. Check the files.\n",
      "DER for nprxc.rttm is greater than 1. Check the files.\n"
     ]
    },
    {
     "name": "stderr",
     "output_type": "stream",
     "text": [
      " 57%|█████▋    | 132/232 [01:17<00:46,  2.15it/s]"
     ]
    },
    {
     "name": "stdout",
     "output_type": "stream",
     "text": [
      "DER for nqyqm.rttm is greater than 1. Check the files.\n"
     ]
    },
    {
     "name": "stderr",
     "output_type": "stream",
     "text": [
      " 57%|█████▋    | 133/232 [01:17<00:41,  2.37it/s]"
     ]
    },
    {
     "name": "stdout",
     "output_type": "stream",
     "text": [
      "DER for ocfop.rttm is greater than 1. Check the files.\n"
     ]
    },
    {
     "name": "stderr",
     "output_type": "stream",
     "text": [
      " 58%|█████▊    | 134/232 [01:20<01:43,  1.06s/it]"
     ]
    },
    {
     "name": "stdout",
     "output_type": "stream",
     "text": [
      "DER for olzkb.rttm is greater than 1. Check the files.\n",
      "DER for ooxlj.rttm is greater than 1. Check the files.\n"
     ]
    },
    {
     "name": "stderr",
     "output_type": "stream",
     "text": [
      " 59%|█████▉    | 137/232 [01:20<00:52,  1.82it/s]"
     ]
    },
    {
     "name": "stdout",
     "output_type": "stream",
     "text": [
      "DER for optsn.rttm is greater than 1. Check the files.\n",
      "DER for oqwpd.rttm is greater than 1. Check the files.\n",
      "DER for otmpf.rttm is greater than 1. Check the files.\n",
      "DER for oubab.rttm is greater than 1. Check the files.\n"
     ]
    },
    {
     "name": "stderr",
     "output_type": "stream",
     "text": [
      " 61%|██████    | 141/232 [01:21<00:28,  3.17it/s]"
     ]
    },
    {
     "name": "stdout",
     "output_type": "stream",
     "text": [
      "DER for ouvtt.rttm is greater than 1. Check the files.\n"
     ]
    },
    {
     "name": "stderr",
     "output_type": "stream",
     "text": [
      " 62%|██████▎   | 145/232 [01:24<00:49,  1.77it/s]"
     ]
    },
    {
     "name": "stdout",
     "output_type": "stream",
     "text": [
      "DER for poucc.rttm is greater than 1. Check the files.\n",
      "DER for ppexo.rttm is greater than 1. Check the files.\n"
     ]
    },
    {
     "name": "stderr",
     "output_type": "stream",
     "text": [
      " 63%|██████▎   | 147/232 [01:24<00:32,  2.62it/s]"
     ]
    },
    {
     "name": "stdout",
     "output_type": "stream",
     "text": [
      "DER for ptses.rttm is greater than 1. Check the files.\n"
     ]
    },
    {
     "name": "stderr",
     "output_type": "stream",
     "text": [
      " 64%|██████▍   | 148/232 [01:24<00:29,  2.83it/s]"
     ]
    },
    {
     "name": "stdout",
     "output_type": "stream",
     "text": [
      "DER for pwnsw.rttm is greater than 1. Check the files.\n",
      "DER for pxqme.rttm is greater than 1. Check the files.\n"
     ]
    },
    {
     "name": "stderr",
     "output_type": "stream",
     "text": [
      " 66%|██████▋   | 154/232 [01:30<00:53,  1.45it/s]"
     ]
    },
    {
     "name": "stdout",
     "output_type": "stream",
     "text": [
      "DER for qeejz.rttm is greater than 1. Check the files.\n",
      "DER for qlrry.rttm is greater than 1. Check the files.\n"
     ]
    },
    {
     "name": "stderr",
     "output_type": "stream",
     "text": [
      " 67%|██████▋   | 155/232 [01:30<00:46,  1.66it/s]"
     ]
    },
    {
     "name": "stdout",
     "output_type": "stream",
     "text": [
      "DER for qoarn.rttm is greater than 1. Check the files.\n"
     ]
    },
    {
     "name": "stderr",
     "output_type": "stream",
     "text": [
      " 68%|██████▊   | 157/232 [01:32<00:51,  1.46it/s]"
     ]
    },
    {
     "name": "stdout",
     "output_type": "stream",
     "text": [
      "DER for qxana.rttm is greater than 1. Check the files.\n",
      "DER for ralnu.rttm is greater than 1. Check the files.\n"
     ]
    },
    {
     "name": "stderr",
     "output_type": "stream",
     "text": [
      " 69%|██████▊   | 159/232 [01:32<00:33,  2.16it/s]"
     ]
    },
    {
     "name": "stdout",
     "output_type": "stream",
     "text": [
      "DER for rarij.rttm is greater than 1. Check the files.\n"
     ]
    },
    {
     "name": "stderr",
     "output_type": "stream",
     "text": [
      " 70%|██████▉   | 162/232 [01:34<00:35,  1.98it/s]"
     ]
    },
    {
     "name": "stdout",
     "output_type": "stream",
     "text": [
      "DER for rsypp.rttm is greater than 1. Check the files.\n"
     ]
    },
    {
     "name": "stderr",
     "output_type": "stream",
     "text": [
      " 70%|███████   | 163/232 [01:34<00:31,  2.18it/s]"
     ]
    },
    {
     "name": "stdout",
     "output_type": "stream",
     "text": [
      "DER for rxulz.rttm is greater than 1. Check the files.\n"
     ]
    },
    {
     "name": "stderr",
     "output_type": "stream",
     "text": [
      " 71%|███████   | 164/232 [01:35<00:44,  1.54it/s]"
     ]
    },
    {
     "name": "stdout",
     "output_type": "stream",
     "text": [
      "DER for ryken.rttm is greater than 1. Check the files.\n"
     ]
    },
    {
     "name": "stderr",
     "output_type": "stream",
     "text": [
      " 72%|███████▏  | 166/232 [01:36<00:35,  1.84it/s]"
     ]
    },
    {
     "name": "stdout",
     "output_type": "stream",
     "text": [
      "DER for sebyw.rttm is greater than 1. Check the files.\n",
      "DER for sexgc.rttm is greater than 1. Check the files.\n"
     ]
    },
    {
     "name": "stderr",
     "output_type": "stream",
     "text": [
      " 73%|███████▎  | 169/232 [01:37<00:29,  2.16it/s]"
     ]
    },
    {
     "name": "stdout",
     "output_type": "stream",
     "text": [
      "DER for svxzm.rttm is greater than 1. Check the files.\n"
     ]
    },
    {
     "name": "stderr",
     "output_type": "stream",
     "text": [
      " 74%|███████▍  | 172/232 [01:38<00:16,  3.71it/s]"
     ]
    },
    {
     "name": "stdout",
     "output_type": "stream",
     "text": [
      "DER for swbnm.rttm is greater than 1. Check the files.\n",
      "DER for sxqvt.rttm is greater than 1. Check the files.\n",
      "DER for tbjqx.rttm is greater than 1. Check the files.\n"
     ]
    },
    {
     "name": "stderr",
     "output_type": "stream",
     "text": [
      " 75%|███████▌  | 175/232 [01:38<00:09,  5.87it/s]"
     ]
    },
    {
     "name": "stdout",
     "output_type": "stream",
     "text": [
      "DER for thnuq.rttm is greater than 1. Check the files.\n",
      "DER for tiido.rttm is greater than 1. Check the files.\n",
      "DER for tkhgs.rttm is greater than 1. Check the files.\n"
     ]
    },
    {
     "name": "stderr",
     "output_type": "stream",
     "text": [
      " 76%|███████▌  | 176/232 [01:38<00:11,  5.05it/s]"
     ]
    },
    {
     "name": "stdout",
     "output_type": "stream",
     "text": [
      "DER for tkybe.rttm is greater than 1. Check the files.\n",
      "DER for tnjoh.rttm is greater than 1. Check the files.\n"
     ]
    },
    {
     "name": "stderr",
     "output_type": "stream",
     "text": [
      " 77%|███████▋  | 178/232 [01:39<00:09,  5.52it/s]"
     ]
    },
    {
     "name": "stdout",
     "output_type": "stream",
     "text": [
      "DER for tpnyf.rttm is greater than 1. Check the files.\n"
     ]
    },
    {
     "name": "stderr",
     "output_type": "stream",
     "text": [
      " 78%|███████▊  | 181/232 [01:42<00:33,  1.51it/s]"
     ]
    },
    {
     "name": "stdout",
     "output_type": "stream",
     "text": [
      "DER for uedkc.rttm is greater than 1. Check the files.\n"
     ]
    },
    {
     "name": "stderr",
     "output_type": "stream",
     "text": [
      " 79%|███████▉  | 183/232 [01:43<00:27,  1.80it/s]"
     ]
    },
    {
     "name": "stdout",
     "output_type": "stream",
     "text": [
      "DER for uhfrw.rttm is greater than 1. Check the files.\n"
     ]
    },
    {
     "name": "stderr",
     "output_type": "stream",
     "text": [
      " 79%|███████▉  | 184/232 [01:43<00:22,  2.10it/s]"
     ]
    },
    {
     "name": "stdout",
     "output_type": "stream",
     "text": [
      "DER for uicid.rttm is greater than 1. Check the files.\n"
     ]
    },
    {
     "name": "stderr",
     "output_type": "stream",
     "text": [
      " 81%|████████  | 187/232 [01:46<00:28,  1.56it/s]"
     ]
    },
    {
     "name": "stdout",
     "output_type": "stream",
     "text": [
      "DER for usqam.rttm is greater than 1. Check the files.\n"
     ]
    },
    {
     "name": "stderr",
     "output_type": "stream",
     "text": [
      " 81%|████████  | 188/232 [01:47<00:24,  1.81it/s]"
     ]
    },
    {
     "name": "stdout",
     "output_type": "stream",
     "text": [
      "DER for utial.rttm is greater than 1. Check the files.\n"
     ]
    },
    {
     "name": "stderr",
     "output_type": "stream",
     "text": [
      " 81%|████████▏ | 189/232 [01:47<00:20,  2.07it/s]"
     ]
    },
    {
     "name": "stdout",
     "output_type": "stream",
     "text": [
      "DER for vdlvr.rttm is greater than 1. Check the files.\n",
      "DER for vgaez.rttm is greater than 1. Check the files.\n"
     ]
    },
    {
     "name": "stderr",
     "output_type": "stream",
     "text": [
      " 82%|████████▏ | 191/232 [01:48<00:22,  1.83it/s]"
     ]
    },
    {
     "name": "stdout",
     "output_type": "stream",
     "text": [
      "DER for vgevv.rttm is greater than 1. Check the files.\n"
     ]
    },
    {
     "name": "stderr",
     "output_type": "stream",
     "text": [
      " 83%|████████▎ | 193/232 [01:48<00:14,  2.61it/s]"
     ]
    },
    {
     "name": "stdout",
     "output_type": "stream",
     "text": [
      "DER for vncid.rttm is greater than 1. Check the files.\n",
      "DER for vtzqw.rttm is greater than 1. Check the files.\n"
     ]
    },
    {
     "name": "stderr",
     "output_type": "stream",
     "text": [
      " 84%|████████▎ | 194/232 [01:49<00:14,  2.71it/s]"
     ]
    },
    {
     "name": "stdout",
     "output_type": "stream",
     "text": [
      "DER for vuewy.rttm is greater than 1. Check the files.\n",
      "DER for vylyk.rttm is greater than 1. Check the files.\n"
     ]
    },
    {
     "name": "stderr",
     "output_type": "stream",
     "text": [
      " 85%|████████▍ | 197/232 [01:53<00:34,  1.03it/s]"
     ]
    },
    {
     "name": "stdout",
     "output_type": "stream",
     "text": [
      "DER for wdvva.rttm is greater than 1. Check the files.\n"
     ]
    },
    {
     "name": "stderr",
     "output_type": "stream",
     "text": [
      " 86%|████████▌ | 199/232 [01:54<00:21,  1.53it/s]"
     ]
    },
    {
     "name": "stdout",
     "output_type": "stream",
     "text": [
      "DER for wemos.rttm is greater than 1. Check the files.\n",
      "DER for wibky.rttm is greater than 1. Check the files.\n"
     ]
    },
    {
     "name": "stderr",
     "output_type": "stream",
     "text": [
      " 87%|████████▋ | 202/232 [01:56<00:17,  1.67it/s]"
     ]
    },
    {
     "name": "stdout",
     "output_type": "stream",
     "text": [
      "DER for wprog.rttm is greater than 1. Check the files.\n"
     ]
    },
    {
     "name": "stderr",
     "output_type": "stream",
     "text": [
      " 88%|████████▊ | 203/232 [01:56<00:15,  1.89it/s]"
     ]
    },
    {
     "name": "stdout",
     "output_type": "stream",
     "text": [
      "DER for wwvcs.rttm is greater than 1. Check the files.\n"
     ]
    },
    {
     "name": "stderr",
     "output_type": "stream",
     "text": [
      " 88%|████████▊ | 205/232 [01:58<00:19,  1.38it/s]"
     ]
    },
    {
     "name": "stdout",
     "output_type": "stream",
     "text": [
      "DER for xffsa.rttm is greater than 1. Check the files.\n"
     ]
    },
    {
     "name": "stderr",
     "output_type": "stream",
     "text": [
      " 89%|████████▉ | 206/232 [01:58<00:16,  1.62it/s]"
     ]
    },
    {
     "name": "stdout",
     "output_type": "stream",
     "text": [
      "DER for xggbk.rttm is greater than 1. Check the files.\n"
     ]
    },
    {
     "name": "stderr",
     "output_type": "stream",
     "text": [
      " 89%|████████▉ | 207/232 [01:59<00:12,  1.94it/s]"
     ]
    },
    {
     "name": "stdout",
     "output_type": "stream",
     "text": [
      "DER for xkgos.rttm is greater than 1. Check the files.\n"
     ]
    },
    {
     "name": "stderr",
     "output_type": "stream",
     "text": [
      " 91%|█████████ | 210/232 [01:59<00:07,  3.12it/s]"
     ]
    },
    {
     "name": "stdout",
     "output_type": "stream",
     "text": [
      "DER for xlsme.rttm is greater than 1. Check the files.\n",
      "DER for xlyov.rttm is greater than 1. Check the files.\n",
      "DER for xmyyy.rttm is greater than 1. Check the files.\n"
     ]
    },
    {
     "name": "stderr",
     "output_type": "stream",
     "text": [
      " 91%|█████████▏| 212/232 [02:00<00:05,  3.97it/s]"
     ]
    },
    {
     "name": "stdout",
     "output_type": "stream",
     "text": [
      "DER for xqxkt.rttm is greater than 1. Check the files.\n",
      "DER for xtdcl.rttm is greater than 1. Check the files.\n"
     ]
    },
    {
     "name": "stderr",
     "output_type": "stream",
     "text": [
      " 93%|█████████▎| 216/232 [02:00<00:03,  4.87it/s]"
     ]
    },
    {
     "name": "stdout",
     "output_type": "stream",
     "text": [
      "DER for xvxwv.rttm is greater than 1. Check the files.\n",
      "DER for ybhwz.rttm is greater than 1. Check the files.\n"
     ]
    },
    {
     "name": "stderr",
     "output_type": "stream",
     "text": [
      " 94%|█████████▍| 218/232 [02:02<00:04,  3.05it/s]"
     ]
    },
    {
     "name": "stdout",
     "output_type": "stream",
     "text": [
      "DER for ylgug.rttm is greater than 1. Check the files.\n"
     ]
    },
    {
     "name": "stderr",
     "output_type": "stream",
     "text": [
      " 94%|█████████▍| 219/232 [02:03<00:07,  1.74it/s]"
     ]
    },
    {
     "name": "stdout",
     "output_type": "stream",
     "text": [
      "DER for ylzez.rttm is greater than 1. Check the files.\n"
     ]
    },
    {
     "name": "stderr",
     "output_type": "stream",
     "text": [
      " 95%|█████████▌| 221/232 [02:05<00:07,  1.51it/s]"
     ]
    },
    {
     "name": "stdout",
     "output_type": "stream",
     "text": [
      "DER for ytula.rttm is greater than 1. Check the files.\n"
     ]
    },
    {
     "name": "stderr",
     "output_type": "stream",
     "text": [
      " 96%|█████████▌| 223/232 [02:07<00:07,  1.22it/s]"
     ]
    },
    {
     "name": "stdout",
     "output_type": "stream",
     "text": [
      "DER for yzvon.rttm is greater than 1. Check the files.\n"
     ]
    },
    {
     "name": "stderr",
     "output_type": "stream",
     "text": [
      " 97%|█████████▋| 224/232 [02:07<00:05,  1.47it/s]"
     ]
    },
    {
     "name": "stdout",
     "output_type": "stream",
     "text": [
      "DER for zedtj.rttm is greater than 1. Check the files.\n"
     ]
    },
    {
     "name": "stderr",
     "output_type": "stream",
     "text": [
      " 97%|█████████▋| 226/232 [02:08<00:03,  1.83it/s]"
     ]
    },
    {
     "name": "stdout",
     "output_type": "stream",
     "text": [
      "DER for zfzlc.rttm is greater than 1. Check the files.\n"
     ]
    },
    {
     "name": "stderr",
     "output_type": "stream",
     "text": [
      " 98%|█████████▊| 227/232 [02:09<00:02,  2.09it/s]"
     ]
    },
    {
     "name": "stdout",
     "output_type": "stream",
     "text": [
      "DER for zowse.rttm is greater than 1. Check the files.\n"
     ]
    },
    {
     "name": "stderr",
     "output_type": "stream",
     "text": [
      " 98%|█████████▊| 228/232 [02:09<00:01,  2.49it/s]"
     ]
    },
    {
     "name": "stdout",
     "output_type": "stream",
     "text": [
      "DER for zqidv.rttm is greater than 1. Check the files.\n"
     ]
    },
    {
     "name": "stderr",
     "output_type": "stream",
     "text": [
      " 99%|█████████▊| 229/232 [02:09<00:01,  2.57it/s]"
     ]
    },
    {
     "name": "stdout",
     "output_type": "stream",
     "text": [
      "DER for zsgto.rttm is greater than 1. Check the files.\n"
     ]
    },
    {
     "name": "stderr",
     "output_type": "stream",
     "text": [
      " 99%|█████████▉| 230/232 [02:09<00:00,  2.74it/s]"
     ]
    },
    {
     "name": "stdout",
     "output_type": "stream",
     "text": [
      "DER for zzsba.rttm is greater than 1. Check the files.\n"
     ]
    },
    {
     "name": "stderr",
     "output_type": "stream",
     "text": [
      "100%|██████████| 232/232 [02:10<00:00,  1.78it/s]"
     ]
    },
    {
     "name": "stdout",
     "output_type": "stream",
     "text": [
      "DER for zzyyo.rttm is greater than 1. Check the files.\n"
     ]
    },
    {
     "name": "stderr",
     "output_type": "stream",
     "text": [
      "\n"
     ]
    },
    {
     "data": {
      "text/plain": [
       "'\\n# Calculate DER metrics FOR XVECTOR AHC\\ncalculate_der_metrics(\\n    RTTM_TRUTH, RTTM_XVECTOR_AHC, os.path.join(RESULTS_DIRECTORY, \"der_xvector_ahc.csv\")\\n)\\n\\n# Calculate DER metrics FOR XVECTOR SC\\ncalculate_der_metrics(\\n    RTTM_TRUTH, RTTM_XVECTOR_SC, os.path.join(RESULTS_DIRECTORY, \"der_xvector_sc.csv\")\\n)\\n'"
      ]
     },
     "execution_count": 11,
     "metadata": {},
     "output_type": "execute_result"
    }
   ],
   "source": [
    "# Calculate DER metrics for Oracle VAD\n",
    "\n",
    "# calculate_der_metrics(RTTM_TRUTH, RTTM_PYANNOTE, RESULTS_DIRECTORY, \"Pyannote.csv\")\n",
    "\n",
    "# calculate_der_metrics(RTTM_TRUTH, RTTM_ORACLE_VAD, os.path.join(RESULTS_DIRECTORY, \"der_oracle_vad.csv\"),\"Nemo_without_MSD.csv\")\n",
    "\n",
    "\n",
    "# Calculate DER metrics for Oracle Decoder\n",
    "# calculate_der_metrics(RTTM_TRUTH, RTTM_ORACLE_DECODER, os.path.join(RESULTS_DIRECTORY, \"der_oracle_decoder.csv\"), \"Nemo_with_MSD.csv\")\n",
    "\n",
    "\n",
    "# Calculate DER metrics FOR ESCAPA SC\n",
    "# calculate_der_metrics(RTTM_TRUTH, RTTM_ESCAPA_SC, os.path.join(RESULTS_DIRECTORY, \"der_escapa_sc.csv\"), \"ecapa_sc.csv\")\n",
    "\n",
    "# Calculate DER metrics FOR ESCAPA AHC\n",
    "#calculate_der_metrics(RTTM_TRUTH, RTTM_ESCAPA_AHC, os.path.join(RESULTS_DIRECTORY, \"der_escapa_ahc.csv\"), \"ecapa_ahc.csv\")\n",
    "\n",
    "\n",
    "\n",
    "# Calculate DER metrics FOR XVECTOR SC\n",
    "calculate_der_metrics(\n",
    "    RTTM_TRUTH, RTTM_XVECTOR_SC, os.path.join(RESULTS_DIRECTORY, \"der_xvector_sc.csv\")\n",
    ")\n",
    "\n",
    "\"\"\"\n",
    "# Calculate DER metrics FOR XVECTOR AHC\n",
    "calculate_der_metrics(\n",
    "    RTTM_TRUTH, RTTM_XVECTOR_AHC, os.path.join(RESULTS_DIRECTORY, \"der_xvector_ahc.csv\")\n",
    ")\n",
    "\n",
    "\"\"\""
   ]
  }
 ],
 "metadata": {
  "kernelspec": {
   "display_name": "base",
   "language": "python",
   "name": "python3"
  },
  "language_info": {
   "codemirror_mode": {
    "name": "ipython",
    "version": 3
   },
   "file_extension": ".py",
   "mimetype": "text/x-python",
   "name": "python",
   "nbconvert_exporter": "python",
   "pygments_lexer": "ipython3",
   "version": "3.11.7"
  }
 },
 "nbformat": 4,
 "nbformat_minor": 2
}
