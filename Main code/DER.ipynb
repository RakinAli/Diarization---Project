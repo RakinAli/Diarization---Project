{
 "cells": [
  {
   "cell_type": "markdown",
   "metadata": {},
   "source": [
    "# DER calculation\n",
    "This file is used to calculate Diarization Error Rate. It is calculated as follows:\n",
    "1. For each speaker, we calculate the number of false alarms, missed detections and overlapped speech.\n",
    "2. We sum up the number of false alarms, missed detections and overlapped speech.\n",
    "3. We divide the sum by the total number of speaker speech segments.\n",
    "4. The result is the DER.\n",
    "\n",
    "The formula is as follows:\n",
    "$$\n",
    "DER = \\frac{FA + MISS + OVER}{N_{spk}}\n",
    "$$\n",
    "\n",
    "Where:\n",
    "- $FA$ is the number of false alarms\n",
    "- $MISS$ is the number of missed detections\n",
    "- $OVER$ is the number of overlapped speech\n",
    "- $N_{spk}$ is the total number of speaker speech segments\n",
    "\n",
    "The code below is used to calculate the DER."
   ]
  },
  {
   "cell_type": "code",
   "execution_count": 21,
   "metadata": {},
   "outputs": [
    {
     "name": "stderr",
     "output_type": "stream",
     "text": [
      "  0%|          | 0/232 [00:00<?, ?it/s]c:\\Users\\rakin\\anaconda3\\Lib\\site-packages\\pyannote\\metrics\\utils.py:200: UserWarning: 'uem' was approximated by the union of 'reference' and 'hypothesis' extents.\n",
      "  warnings.warn(\n",
      "  0%|          | 0/232 [00:00<?, ?it/s]"
     ]
    },
    {
     "name": "stdout",
     "output_type": "stream",
     "text": [
      "{'missed detection': 0.0, 'confusion': 32.65, 'false alarm': 59.300000000000004, 'correct': 2430.3499999999995, 'total': 2463.0, 'diarization error rate': 0.03733252131546894}\n"
     ]
    },
    {
     "name": "stderr",
     "output_type": "stream",
     "text": [
      "\n"
     ]
    },
    {
     "ename": "KeyError",
     "evalue": "'missed speech'",
     "output_type": "error",
     "traceback": [
      "\u001b[1;31m---------------------------------------------------------------------------\u001b[0m",
      "\u001b[1;31mKeyError\u001b[0m                                  Traceback (most recent call last)",
      "Cell \u001b[1;32mIn[21], line 50\u001b[0m\n\u001b[0;32m     48\u001b[0m \u001b[38;5;28mprint\u001b[39m(detailed)\n\u001b[0;32m     49\u001b[0m der \u001b[38;5;241m=\u001b[39m detailed[\u001b[38;5;124m\"\u001b[39m\u001b[38;5;124mdiarization error rate\u001b[39m\u001b[38;5;124m\"\u001b[39m]\n\u001b[1;32m---> 50\u001b[0m missed_speech \u001b[38;5;241m=\u001b[39m detailed[\u001b[38;5;124m\"\u001b[39m\u001b[38;5;124mmissed speech\u001b[39m\u001b[38;5;124m\"\u001b[39m]\n\u001b[0;32m     51\u001b[0m speaker_error \u001b[38;5;241m=\u001b[39m detailed[\u001b[38;5;124m\"\u001b[39m\u001b[38;5;124mspeaker error\u001b[39m\u001b[38;5;124m\"\u001b[39m]\n\u001b[0;32m     52\u001b[0m false_alarm \u001b[38;5;241m=\u001b[39m detailed[\u001b[38;5;124m\"\u001b[39m\u001b[38;5;124mfalse alarm\u001b[39m\u001b[38;5;124m\"\u001b[39m]\n",
      "\u001b[1;31mKeyError\u001b[0m: 'missed speech'"
     ]
    }
   ],
   "source": [
    "import pandas as pd\n",
    "from pyannote.core import Annotation, Segment\n",
    "from pyannote.metrics.diarization import DiarizationErrorRate\n",
    "import os\n",
    "from tqdm import tqdm\n",
    "\n",
    "# Paths to the different RTTM files\n",
    "RTTM_TRUTH = \"../Dataset/RTTMs/Test\"\n",
    "RTTM_ORACLE_VAD = \"../Results/Oracle_vad/Test\"\n",
    "\n",
    "\n",
    "# Load the RTTM files\n",
    "def load_rttm(filename):\n",
    "    \"\"\"Load RTTM file and convert it to pyannote.core.Annotation\"\"\"\n",
    "    annotation = Annotation()\n",
    "    with open(filename, \"r\") as file:\n",
    "        for line in file:\n",
    "            parts = line.strip().split()\n",
    "            if len(parts) < 9:\n",
    "                continue\n",
    "            file_id, channel, start_time, duration, _, _, *speaker_parts = parts\n",
    "            speaker = \" \".join(speaker_parts)\n",
    "            start_time = float(start_time)\n",
    "            duration = float(duration)\n",
    "            end_time = start_time + duration\n",
    "            segment = Segment(start_time, end_time)\n",
    "            annotation[segment] = speaker\n",
    "    return annotation\n",
    "\n",
    "\n",
    "# Initialize the diarization error rate metric\n",
    "der_metric = DiarizationErrorRate()\n",
    "\n",
    "# Store results\n",
    "results = []\n",
    "\n",
    "# Iterate over files in RTTM_ORACLE_VAD directory\n",
    "for file_name in tqdm(os.listdir(RTTM_ORACLE_VAD)):\n",
    "    path_truth = os.path.join(RTTM_TRUTH, file_name)\n",
    "    path_oracle_vad = os.path.join(RTTM_ORACLE_VAD, file_name)\n",
    "\n",
    "    if os.path.exists(path_truth) and os.path.exists(path_oracle_vad):\n",
    "        ground_truth = load_rttm(path_truth)\n",
    "        prediction = load_rttm(path_oracle_vad)\n",
    "\n",
    "        # Calculate DER and components manually\n",
    "        detailed = der_metric(ground_truth, prediction, detailed=True)\n",
    "        print(detailed)\n",
    "        der = detailed[\"diarization error rate\"]\n",
    "        missed_speech = detailed[\"missed speech\"]\n",
    "        speaker_error = detailed[\"speaker error\"]\n",
    "        false_alarm = detailed[\"false alarm\"]\n",
    "        total_duration = detailed[\"total\"]\n",
    "\n",
    "        # Append results\n",
    "        results.append(\n",
    "            {\n",
    "                \"File\": file_name,\n",
    "                \"DER\": der,\n",
    "                \"Miss Duration\": missed_speech / total_duration,\n",
    "                \"Speaker Error Duration\": speaker_error / total_duration,\n",
    "                \"False Alarm Duration\": false_alarm / total_duration,\n",
    "            }\n",
    "        )\n",
    "    else:\n",
    "        print(f\"File {file_name} not found\")\n",
    "\n",
    "\n",
    "# Convert results to DataFrame for better readability\n",
    "results_df = pd.DataFrame(results)\n",
    "print(results_df)\n",
    "\n",
    "# If you want to save the results to a CSV file\n",
    "results_df.to_csv(\"der_results.csv\", index=False)"
   ]
  }
 ],
 "metadata": {
  "kernelspec": {
   "display_name": "base",
   "language": "python",
   "name": "python3"
  },
  "language_info": {
   "codemirror_mode": {
    "name": "ipython",
    "version": 3
   },
   "file_extension": ".py",
   "mimetype": "text/x-python",
   "name": "python",
   "nbconvert_exporter": "python",
   "pygments_lexer": "ipython3",
   "version": "3.11.7"
  }
 },
 "nbformat": 4,
 "nbformat_minor": 2
}
