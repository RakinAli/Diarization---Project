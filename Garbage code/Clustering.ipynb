{
 "cells": [
  {
   "cell_type": "markdown",
   "metadata": {},
   "source": [
    "# Speaker diarization.\n",
    "In this project we wish to do Speaker Diarization. Specifically we wish to build custom pipelines in order to answer the following questions:\n",
    "\n",
    "- Which clustering algorithms are best for speaker diarization?\n",
    "\n",
    "- Does Clustering Algorithms on Deep Neural Network embeddings outperform traditional clustering algorithms?\n",
    "\n",
    "- Can end-to-end Deep Neural Network models outperform traditional clustering algorithms?\n",
    "\n",
    "The ground truth are the RTTM files. The RTTM files are in the following format:\n",
    "```\n",
    "\n",
    "SPEAKER <NA> 1 0.00 0.39 <NA> <NA> spk_0 <NA>\n",
    "SPEAKER <NA> 1 0.39 0.01 <NA> <NA> spk_1 <NA>\n",
    "\n",
    "```\n",
    "The first number is the start time, the second number is the duration, and the last number is the speaker id.\n",
    "\n",
    "\n",
    "\n",
    "    "
   ]
  },
  {
   "cell_type": "markdown",
   "metadata": {},
   "source": [
    "### All imports "
   ]
  },
  {
   "cell_type": "code",
   "execution_count": 1,
   "metadata": {},
   "outputs": [],
   "source": [
    "# Typical imports\n",
    "from tqdm import tqdm\n",
    "import numpy as np\n",
    "import torch\n",
    "import torch.nn as nn\n",
    "import matplotlib.pyplot as plt\n",
    "import os\n",
    "from dotenv import load_dotenv\n",
    "import speechbrain as sb\n",
    "\n",
    "# Scipy\n",
    "from scipy.spatial.distance import cdist\n",
    "\n",
    "\n",
    "# All Pyannote imports\n",
    "from pyannote.audio import Pipeline\n",
    "from pyannote.core import Segment, Annotation\n",
    "from pyannote.audio import Model, Inference\n",
    "from pyannote.audio import Audio\n",
    "\n",
    "# Loading the envs\n",
    "load_dotenv(\"auths.env\")\n",
    "api_key = os.getenv(\"API_KEY\")"
   ]
  },
  {
   "cell_type": "markdown",
   "metadata": {},
   "source": [
    "### Loading the train data and the ground truth on the train data\n",
    "- Below is a playground to load the train data and the ground truth on the train data for one of the files. Later this will be done on all the files. "
   ]
  },
  {
   "cell_type": "code",
   "execution_count": 3,
   "metadata": {},
   "outputs": [
    {
     "name": "stderr",
     "output_type": "stream",
     "text": [
      "Lightning automatically upgraded your loaded checkpoint from v1.1.3 to v2.2.5. To apply the upgrade to your files permanently, run `python -m pytorch_lightning.utilities.upgrade_checkpoint C:\\Users\\rakin\\.cache\\torch\\pyannote\\models--pyannote--segmentation\\snapshots\\059e96f964841d40f1a5e755bb7223f76666bba4\\pytorch_model.bin`\n"
     ]
    },
    {
     "name": "stdout",
     "output_type": "stream",
     "text": [
      "Model was trained with pyannote.audio 0.0.1, yours is 3.2.0. Bad things might happen unless you revert pyannote.audio to 0.x.\n",
      "Model was trained with torch 1.7.1, yours is 2.3.0+cu121. Bad things might happen unless you revert torch to 1.x.\n"
     ]
    },
    {
     "name": "stderr",
     "output_type": "stream",
     "text": [
      "Lightning automatically upgraded your loaded checkpoint from v1.1.3 to v2.2.5. To apply the upgrade to your files permanently, run `python -m pytorch_lightning.utilities.upgrade_checkpoint C:\\Users\\rakin\\.cache\\torch\\pyannote\\models--pyannote--segmentation\\snapshots\\059e96f964841d40f1a5e755bb7223f76666bba4\\pytorch_model.bin`\n"
     ]
    },
    {
     "name": "stdout",
     "output_type": "stream",
     "text": [
      "Model was trained with pyannote.audio 0.0.1, yours is 3.2.0. Bad things might happen unless you revert pyannote.audio to 0.x.\n",
      "Model was trained with torch 1.7.1, yours is 2.3.0+cu121. Bad things might happen unless you revert torch to 1.x.\n",
      "[ 00:00:00.030 -->  00:00:19.420] _ speech\n",
      "[ 00:00:20.685 -->  00:02:34.082] _ speech\n",
      "[ 00:01:07.530 -->  00:01:08.020] _ speech\n",
      "[ 00:01:08.796 -->  00:01:10.838] _ speech\n",
      "[ 00:01:30.261 -->  00:01:31.982] _ speech\n",
      "[ 00:01:43.575 -->  00:01:44.318] _ speech\n",
      "[ 00:02:20.059 -->  00:02:21.224] _ speech\n",
      "[ 00:02:27.045 -->  00:02:27.265] _ speech\n",
      "[ 00:02:34.352 -->  00:04:12.109] _ speech\n",
      "[ 00:02:52.088 -->  00:02:53.759] _ speech\n",
      "[ 00:02:58.197 -->  00:03:00.053] _ speech\n",
      "[ 00:03:02.601 -->  00:03:03.006] _ speech\n",
      "[ 00:03:17.249 -->  00:03:17.805] _ speech\n",
      "[ 00:03:20.674 -->  00:03:21.450] _ speech\n",
      "[ 00:03:32.402 -->  00:03:35.018] _ speech\n",
      "[ 00:03:38.663 -->  00:03:39.034] _ speech\n",
      "[ 00:03:40.249 -->  00:03:40.755] _ speech\n",
      "[ 00:03:42.224 -->  00:03:42.561] _ speech\n",
      "[ 00:03:43.000 -->  00:03:43.169] _ speech\n",
      "[ 00:03:44.451 -->  00:03:45.767] _ speech\n",
      "[ 00:04:12.362 -->  00:08:17.927] _ speech\n",
      "[ 00:04:56.862 -->  00:04:59.224] _ speech\n",
      "[ 00:06:31.497 -->  00:06:31.969] _ speech\n",
      "[ 00:06:32.594 -->  00:06:35.361] _ speech\n",
      "[ 00:06:41.807 -->  00:06:42.162] _ speech\n",
      "[ 00:07:01.484 -->  00:07:02.918] _ speech\n",
      "[ 00:07:28.129 -->  00:07:28.956] _ speech\n",
      "[ 00:07:42.119 -->  00:07:42.490] _ speech\n",
      "[ 00:07:44.009 -->  00:07:44.447] _ speech\n",
      "[ 00:08:03.212 -->  00:08:03.432] _ speech\n",
      "[ 00:08:04.647 -->  00:08:04.934] _ speech\n",
      "[ 00:08:05.490 -->  00:08:07.229] _ speech\n",
      "[ 00:08:16.004 -->  00:08:16.544] _ speech\n",
      "[ 00:08:19.007 -->  00:08:33.705] _ speech\n",
      "[ 00:08:20.610 -->  00:08:20.999] _ speech\n",
      "[ 00:08:25.589 -->  00:08:27.782] _ speech\n",
      "[ 00:08:29.976 -->  00:08:32.085] _ speech\n",
      "[ 00:08:35.039 -->  00:09:05.869] _ speech\n",
      "[ 00:08:44.472 -->  00:08:45.501] _ speech\n",
      "[ 00:09:06.426 -->  00:10:45.989] _ speech\n",
      "[ 00:09:34.084 -->  00:09:36.447] _ speech\n",
      "[ 00:09:37.695 -->  00:09:41.661] _ speech\n",
      "[ 00:09:45.728 -->  00:09:46.572] _ speech\n",
      "[ 00:09:52.799 -->  00:09:53.001] _ speech\n",
      "[ 00:09:57.574 -->  00:09:57.945] _ speech\n",
      "[ 00:10:16.525 -->  00:10:17.605] _ speech\n",
      "[ 00:10:39.070 -->  00:10:40.251] _ speech\n",
      "[ 00:10:46.309 -->  00:11:04.315] _ speech\n",
      "[ 00:10:54.747 -->  00:10:56.384] _ speech\n"
     ]
    }
   ],
   "source": [
    "train_data_path = \"../Dataset/Audio/Dev\"\n",
    "train_label_path = \"../Dataset/RTTMs/Dev\"\n",
    "\n",
    "# Experimental data --> just one audio file and its corresponding label\n",
    "dummy_train_data_path = \"../Dataset/Audio/Dev/ahnss.wav\"\n",
    "dummy_train_label_path = \"../Dataset/RTTMs/Dev/ahnss.rttm\"\n",
    "\n",
    "\n",
    "# Load the pipeline\n",
    "pipeline = Pipeline.from_pretrained(\n",
    "    \"pyannote/voice-activity-detection\", use_auth_token=api_key\n",
    ")\n",
    "pipeline.to(torch.device(\"cuda\"))\n",
    "\n",
    "# 1. Voice Activity Detection\n",
    "vad_pipeline = pipeline(dummy_train_data_path)\n",
    "vad_timeline = vad_pipeline.get_timeline().support()\n",
    "\n",
    "# 2. Overlapped speech detection\n",
    "osd_pipeline = Pipeline.from_pretrained(\n",
    "    \"pyannote/overlapped-speech-detection\", use_auth_token=api_key\n",
    ")\n",
    "output = osd_pipeline(dummy_train_data_path)\n",
    "osd_timeline = output.get_timeline().support()\n",
    "\n",
    "# Combine the two timelines\n",
    "combined_timeline = vad_timeline.union(osd_timeline)\n",
    "combined_annotation = Annotation()\n",
    "for segment in combined_timeline:\n",
    "    combined_annotation[segment] = \"speech\"\n",
    "\n",
    "print(combined_annotation)"
   ]
  }
 ],
 "metadata": {
  "kernelspec": {
   "display_name": "base",
   "language": "python",
   "name": "python3"
  },
  "language_info": {
   "codemirror_mode": {
    "name": "ipython",
    "version": 3
   },
   "file_extension": ".py",
   "mimetype": "text/x-python",
   "name": "python",
   "nbconvert_exporter": "python",
   "pygments_lexer": "ipython3",
   "version": "3.11.7"
  }
 },
 "nbformat": 4,
 "nbformat_minor": 2
}
