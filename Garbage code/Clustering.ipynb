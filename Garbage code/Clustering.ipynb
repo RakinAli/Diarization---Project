{
 "cells": [
  {
   "cell_type": "markdown",
   "metadata": {},
   "source": [
    "# Speaker diarization.\n",
    "In this project we wish to do Speaker Diarization. Specifically we wish to build custom pipelines in order to answer the following questions:\n",
    "\n",
    "- Which clustering algorithms are best for speaker diarization?\n",
    "\n",
    "- Does Clustering Algorithms on Deep Neural Network embeddings outperform traditional clustering algorithms?\n",
    "\n",
    "- Can end-to-end Deep Neural Network models outperform traditional clustering algorithms?\n",
    "\n",
    "The ground truth are the RTTM files. The RTTM files are in the following format:\n",
    "```\n",
    "\n",
    "SPEAKER <NA> 1 0.00 0.39 <NA> <NA> spk_0 <NA>\n",
    "SPEAKER <NA> 1 0.39 0.01 <NA> <NA> spk_1 <NA>\n",
    "\n",
    "```\n",
    "The first number is the start time, the second number is the duration, and the last number is the speaker id.\n",
    "\n",
    "\n",
    "\n",
    "    "
   ]
  },
  {
   "cell_type": "markdown",
   "metadata": {},
   "source": [
    "### All imports "
   ]
  },
  {
   "cell_type": "code",
   "execution_count": 6,
   "metadata": {},
   "outputs": [],
   "source": [
    "# Typical imports\n",
    "from tqdm import tqdm\n",
    "import numpy as np\n",
    "import torch\n",
    "import torch.nn as nn\n",
    "import matplotlib.pyplot as plt\n",
    "import os\n",
    "from dotenv import load_dotenv\n",
    "import speechbrain as sb\n",
    "\n",
    "# Scipy\n",
    "from scipy.spatial.distance import cdist\n",
    "\n",
    "\n",
    "# All Pyannote imports\n",
    "from pyannote.audio import Pipeline\n",
    "from pyannote.core import Segment, Annotation\n",
    "from pyannote.audio import Model, Inference\n",
    "from pyannote.audio import Audio\n",
    "\n",
    "# Loading the envs\n",
    "load_dotenv(\"auths.env\")\n",
    "api_key = os.getenv(\"API_KEY\")"
   ]
  },
  {
   "cell_type": "markdown",
   "metadata": {},
   "source": [
    "### Loading the train data and the ground truth on the train data\n",
    "- Below is a playground to load the train data and the ground truth on the train data for one of the files. Later this will be done on all the files. "
   ]
  },
  {
   "cell_type": "code",
   "execution_count": 2,
   "metadata": {},
   "outputs": [
    {
     "name": "stderr",
     "output_type": "stream",
     "text": [
      "Lightning automatically upgraded your loaded checkpoint from v1.1.3 to v2.2.5. To apply the upgrade to your files permanently, run `python -m pytorch_lightning.utilities.upgrade_checkpoint C:\\Users\\rakin\\.cache\\torch\\pyannote\\models--pyannote--segmentation\\snapshots\\059e96f964841d40f1a5e755bb7223f76666bba4\\pytorch_model.bin`\n"
     ]
    },
    {
     "name": "stdout",
     "output_type": "stream",
     "text": [
      "Model was trained with pyannote.audio 0.0.1, yours is 3.2.0. Bad things might happen unless you revert pyannote.audio to 0.x.\n",
      "Model was trained with torch 1.7.1, yours is 2.3.0+cu121. Bad things might happen unless you revert torch to 1.x.\n"
     ]
    },
    {
     "name": "stderr",
     "output_type": "stream",
     "text": [
      "Lightning automatically upgraded your loaded checkpoint from v1.1.3 to v2.2.5. To apply the upgrade to your files permanently, run `python -m pytorch_lightning.utilities.upgrade_checkpoint C:\\Users\\rakin\\.cache\\torch\\pyannote\\models--pyannote--segmentation\\snapshots\\059e96f964841d40f1a5e755bb7223f76666bba4\\pytorch_model.bin`\n"
     ]
    },
    {
     "name": "stdout",
     "output_type": "stream",
     "text": [
      "Model was trained with pyannote.audio 0.0.1, yours is 3.2.0. Bad things might happen unless you revert pyannote.audio to 0.x.\n",
      "Model was trained with torch 1.7.1, yours is 2.3.0+cu121. Bad things might happen unless you revert torch to 1.x.\n"
     ]
    }
   ],
   "source": [
    "train_data_path = \"../Dataset/Audio/Dev\"\n",
    "train_label_path = \"../Dataset/RTTMs/Dev\"\n",
    "\n",
    "# Experimental data --> just one audio file and its corresponding label\n",
    "dummy_train_data_path = \"../Dataset/Audio/Dev/ahnss.wav\"\n",
    "dummy_train_label_path = \"../Dataset/RTTMs/Dev/ahnss.rttm\"\n",
    "\n",
    "\n",
    "# Load the pipeline\n",
    "pipeline = Pipeline.from_pretrained(\n",
    "    \"pyannote/voice-activity-detection\", use_auth_token=api_key\n",
    ")\n",
    "pipeline.to(torch.device(\"cuda\"))\n",
    "\n",
    "# 1. Voice Activity Detection\n",
    "vad_pipeline = pipeline(dummy_train_data_path)\n",
    "vad_timeline = vad_pipeline.get_timeline().support()\n",
    "\n",
    "# 2. Overlapped speech detection\n",
    "osd_pipeline = Pipeline.from_pretrained(\n",
    "    \"pyannote/overlapped-speech-detection\", use_auth_token=api_key\n",
    ")\n",
    "output = osd_pipeline(dummy_train_data_path)\n",
    "osd_timeline = output.get_timeline().support()\n",
    "\n",
    "# Combine the two timelines \n",
    "combined_timeline = vad_timeline.union(osd_timeline)\n",
    "combined_annotation = Annotation()\n",
    "for segment in combined_timeline:\n",
    "    combined_annotation[segment] = \"speech\"\n",
    "\n"
   ]
  }
 ],
 "metadata": {
  "kernelspec": {
   "display_name": "base",
   "language": "python",
   "name": "python3"
  },
  "language_info": {
   "codemirror_mode": {
    "name": "ipython",
    "version": 3
   },
   "file_extension": ".py",
   "mimetype": "text/x-python",
   "name": "python",
   "nbconvert_exporter": "python",
   "pygments_lexer": "ipython3",
   "version": "3.11.7"
  }
 },
 "nbformat": 4,
 "nbformat_minor": 2
}
