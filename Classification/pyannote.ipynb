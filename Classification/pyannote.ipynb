{
 "cells": [
  {
   "cell_type": "markdown",
   "metadata": {},
   "source": [
    "# Speaker diarization.\n",
    "In this project we wish to do Speaker Diarization. Specifically we wish to build custom pipelines in order to answer the following questions:\n",
    "- Which embeddings are best for speaker diarization?\n",
    "- Which clustering algorithms are best for speaker diarization?\n",
    "- Which embedding + Clustering algorithm combination is best for speaker diarization?\n",
    "- Does Clustering Algorithms on Deep Neural Network embeddings outperform traditional clustering algorithms?\n",
    "- Can end-to-end Deep Neural Network models outperform traditional clustering algorithms?\n",
    "- Which Voice activity detections to use for speaker diarization?\n",
    "\n",
    "\n",
    "The ground truth are the RTTM files. The RTTM files are in the following format:\n",
    "```\n",
    "\n",
    "SPEAKER <NA> 1 0.00 0.39 <NA> <NA> spk_0 <NA>\n",
    "SPEAKER <NA> 1 0.39 0.01 <NA> <NA> spk_1 <NA>\n",
    "\n",
    "```\n",
    "The first number is the start time, the second number is the duration, and the last number is the speaker id.\n",
    "\n",
    "\n",
    "\n",
    "    "
   ]
  },
  {
   "attachments": {
    "image.png": {
     "image/png": "[encoded data removed]"
    }
   },
   "cell_type": "markdown",
   "metadata": {},
   "source": [
    "## Which embeddings are best for speaker diarization?\n",
    "![image.png](attachment:image.png)\n",
    "\n",
    "The focus being on the embeddings, we will use the following embeddings:\n",
    "- I-vector\n",
    "- D-vectors (Deep Speaker Embeddings)\n",
    "\n",
    "To keep things simple, we will just use one clustering algorithm, K-means. We will use the following metrics to evaluate the embeddings:\n",
    "- DER"
   ]
  },
  {
   "cell_type": "markdown",
   "metadata": {},
   "source": [
    "### All imports "
   ]
  },
  {
   "cell_type": "code",
   "execution_count": 2,
   "metadata": {},
   "outputs": [],
   "source": [
    "# Typical imports\n",
    "from tqdm import tqdm\n",
    "import numpy as np\n",
    "import torch\n",
    "import torch.nn as nn\n",
    "import matplotlib.pyplot as plt\n",
    "import os\n",
    "from dotenv import load_dotenv\n",
    "import speechbrain as sb\n",
    "\n",
    "# Scipy\n",
    "from scipy.spatial.distance import cdist\n",
    "\n",
    "\n",
    "# All Pyannote imports\n",
    "from pyannote.audio import Pipeline\n",
    "from pyannote.core import Segment, Annotation\n",
    "from pyannote.audio import Model, Inference\n",
    "from pyannote.audio import Audio\n",
    "\n",
    "# Loading the envs\n",
    "load_dotenv(\"auths.env\")\n",
    "api_key = os.getenv(\"API_KEY\")"
   ]
  },
  {
   "cell_type": "markdown",
   "metadata": {},
   "source": [
    "### Loading the train data and the ground truth on the train data\n",
    "- Below is a playground to load the train data and the ground truth on the train data for one of the files. Later this will be done on all the files. "
   ]
  },
  {
   "cell_type": "code",
   "execution_count": 3,
   "metadata": {},
   "outputs": [
    {
     "name": "stderr",
     "output_type": "stream",
     "text": [
      "Lightning automatically upgraded your loaded checkpoint from v1.1.3 to v2.2.5. To apply the upgrade to your files permanently, run `python -m pytorch_lightning.utilities.upgrade_checkpoint C:\\Users\\rakin\\.cache\\torch\\pyannote\\models--pyannote--segmentation\\snapshots\\059e96f964841d40f1a5e755bb7223f76666bba4\\pytorch_model.bin`\n"
     ]
    },
    {
     "name": "stdout",
     "output_type": "stream",
     "text": [
      "Model was trained with pyannote.audio 0.0.1, yours is 3.2.0. Bad things might happen unless you revert pyannote.audio to 0.x.\n",
      "Model was trained with torch 1.7.1, yours is 2.3.0+cu121. Bad things might happen unless you revert torch to 1.x.\n"
     ]
    },
    {
     "name": "stderr",
     "output_type": "stream",
     "text": [
      "Lightning automatically upgraded your loaded checkpoint from v1.1.3 to v2.2.5. To apply the upgrade to your files permanently, run `python -m pytorch_lightning.utilities.upgrade_checkpoint C:\\Users\\rakin\\.cache\\torch\\pyannote\\models--pyannote--segmentation\\snapshots\\059e96f964841d40f1a5e755bb7223f76666bba4\\pytorch_model.bin`\n"
     ]
    },
    {
     "name": "stdout",
     "output_type": "stream",
     "text": [
      "Model was trained with pyannote.audio 0.0.1, yours is 3.2.0. Bad things might happen unless you revert pyannote.audio to 0.x.\n",
      "Model was trained with torch 1.7.1, yours is 2.3.0+cu121. Bad things might happen unless you revert torch to 1.x.\n"
     ]
    }
   ],
   "source": [
    "train_data_path = \"../Dataset/Audio/Dev\"\n",
    "train_label_path = \"../Dataset/RTTMs/Dev\"\n",
    "\n",
    "# Experimental data --> just one audio file and its corresponding label\n",
    "dummy_train_data_path = \"../Dataset/Audio/Dev/ahnss.wav\"\n",
    "dummy_train_label_path = \"../Dataset/RTTMs/Dev/ahnss.rttm\"\n",
    "\n",
    "\n",
    "# Load the pipeline\n",
    "pipeline = Pipeline.from_pretrained(\n",
    "    \"pyannote/voice-activity-detection\", use_auth_token=api_key\n",
    ")\n",
    "pipeline.to(torch.device(\"cuda\"))\n",
    "\n",
    "# 1. Voice Activity Detection\n",
    "vad_pipeline = pipeline(dummy_train_data_path)\n",
    "vad_timeline = vad_pipeline.get_timeline().support()\n",
    "\n",
    "# 2. Overlapped speech detection\n",
    "osd_pipeline = Pipeline.from_pretrained(\n",
    "    \"pyannote/overlapped-speech-detection\", use_auth_token=api_key\n",
    ")\n",
    "output = osd_pipeline(dummy_train_data_path)\n",
    "osd_timeline = output.get_timeline().support()\n",
    "\n",
    "# Combine the two timelines \n",
    "combined_timeline = vad_timeline.union(osd_timeline)\n",
    "combined_annotation = Annotation()\n",
    "for segment in combined_timeline:\n",
    "    combined_annotation[segment] = \"speech\"\n",
    "\n"
   ]
  },
  {
   "cell_type": "code",
   "execution_count": 5,
   "metadata": {},
   "outputs": [
    {
     "name": "stderr",
     "output_type": "stream",
     "text": [
      "Lightning automatically upgraded your loaded checkpoint from v1.2.7 to v2.2.5. To apply the upgrade to your files permanently, run `python -m pytorch_lightning.utilities.upgrade_checkpoint C:\\Users\\rakin\\.cache\\torch\\pyannote\\models--pyannote--embedding\\snapshots\\4db4899737a38b2d618bbd74350915aa10293cb2\\pytorch_model.bin`\n",
      "Lightning automatically upgraded your loaded checkpoint from v1.2.7 to v2.2.5. To apply the upgrade to your files permanently, run `python -m pytorch_lightning.utilities.upgrade_checkpoint C:\\Users\\rakin\\.cache\\torch\\pyannote\\models--pyannote--embedding\\snapshots\\4db4899737a38b2d618bbd74350915aa10293cb2\\pytorch_model.bin`\n"
     ]
    },
    {
     "name": "stdout",
     "output_type": "stream",
     "text": [
      "Model was trained with pyannote.audio 0.0.1, yours is 3.2.0. Bad things might happen unless you revert pyannote.audio to 0.x.\n",
      "Model was trained with torch 1.8.1+cu102, yours is 2.3.0+cu121. Bad things might happen unless you revert torch to 1.x.\n",
      "Model was trained with pyannote.audio 0.0.1, yours is 3.2.0. Bad things might happen unless you revert pyannote.audio to 0.x.\n",
      "Model was trained with torch 1.8.1+cu102, yours is 2.3.0+cu121. Bad things might happen unless you revert torch to 1.x.\n"
     ]
    },
    {
     "name": "stderr",
     "output_type": "stream",
     "text": [
      "Extracting embeddings: 9it [00:00, 24.31it/s]"
     ]
    },
    {
     "name": "stdout",
     "output_type": "stream",
     "text": [
      "RuntimeError processing segment [ 00:02:27.045 -->  00:02:27.265]: Calculated padded input size per channel: (2). Kernel size: (7). Kernel size can't be greater than actual input size\n",
      "RuntimeError processing segment [ 00:03:43.000 -->  00:03:43.169]: Calculated padded input size per channel: (3). Kernel size: (5). Kernel size can't be greater than actual input size\n"
     ]
    },
    {
     "name": "stderr",
     "output_type": "stream",
     "text": [
      "Extracting embeddings: 36it [00:00, 49.22it/s]"
     ]
    },
    {
     "name": "stdout",
     "output_type": "stream",
     "text": [
      "RuntimeError processing segment [ 00:08:03.212 -->  00:08:03.432]: Calculated padded input size per channel: (2). Kernel size: (7). Kernel size can't be greater than actual input size\n",
      "RuntimeError processing segment [ 00:08:04.647 -->  00:08:04.934]: Calculated padded input size per channel: (6). Kernel size: (7). Kernel size can't be greater than actual input size\n"
     ]
    },
    {
     "name": "stderr",
     "output_type": "stream",
     "text": [
      "Extracting embeddings: 49it [00:01, 42.18it/s]"
     ]
    },
    {
     "name": "stdout",
     "output_type": "stream",
     "text": [
      "RuntimeError processing segment [ 00:09:52.799 -->  00:09:53.001]: Calculated padded input size per channel: (1). Kernel size: (7). Kernel size can't be greater than actual input size\n",
      "Adjusting segment end time from 664.31534375 to 664.2939375\n"
     ]
    },
    {
     "name": "stderr",
     "output_type": "stream",
     "text": [
      "\n"
     ]
    }
   ],
   "source": [
    "# Load the speaker embedding model\n",
    "embedding_model = Model.from_pretrained(\"pyannote/embedding\", use_auth_token=api_key)\n",
    "inference = Inference(embedding_model, window=\"whole\")\n",
    "\n",
    "# Initialize audio utility\n",
    "audio = Audio(sample_rate=16000)\n",
    "\n",
    "# Extract embeddings for each segment\n",
    "embeddings = []\n",
    "segments = []\n",
    "\n",
    "min_length = 1024  # Set an appropriate minimum length for the model\n",
    "audio_duration = audio.get_duration(\n",
    "    dummy_train_data_path\n",
    ")  # Get the duration of the audio file\n",
    "\n",
    "for segment in tqdm(combined_annotation.itersegments(), desc=\"Extracting embeddings\"):\n",
    "    # Ensure the segment is within audio bounds\n",
    "    start_time = segment.start\n",
    "    end_time = segment.end\n",
    "    if end_time > audio_duration:\n",
    "        print(f\"Adjusting segment end time from {end_time} to {audio_duration}\")\n",
    "        end_time = audio_duration\n",
    "        if start_time >= end_time:\n",
    "            print(\n",
    "                f\"Skipping segment with start time {start_time} and end time {end_time}\"\n",
    "            )\n",
    "            continue\n",
    "        segment = Segment(start_time, end_time)\n",
    "\n",
    "    try:\n",
    "        waveform, _ = audio.crop(dummy_train_data_path, segment)\n",
    "\n",
    "        # Print shape for debugging\n",
    "\n",
    "        # Ensure the segment is long enough\n",
    "        if waveform.shape[1] < min_length:\n",
    "            padding = min_length - waveform.shape[1]\n",
    "            waveform = torch.nn.functional.pad(waveform, (0, padding), \"constant\", 0)\n",
    "\n",
    "        # Print shape after padding\n",
    "\n",
    "        # Ensure the waveform is a 2D tensor with shape [1, length]\n",
    "        if waveform.ndim == 1:\n",
    "            waveform = waveform.unsqueeze(0)\n",
    "\n",
    "        embedding = inference({\"waveform\": waveform, \"sample_rate\": 16000})\n",
    "        embeddings.append(embedding)  # Directly append the numpy array\n",
    "        segments.append(segment)\n",
    "    except ValueError as e:\n",
    "        print(f\"ValueError processing segment {segment}: {e}\")\n",
    "        continue\n",
    "    except RuntimeError as e:\n",
    "        print(f\"RuntimeError processing segment {segment}: {e}\")\n",
    "        continue\n",
    "    except Exception as e:\n",
    "        print(f\"Unexpected error processing segment {segment}: {e}\")\n",
    "        continue"
   ]
  }
 ],
 "metadata": {
  "kernelspec": {
   "display_name": "base",
   "language": "python",
   "name": "python3"
  },
  "language_info": {
   "codemirror_mode": {
    "name": "ipython",
    "version": 3
   },
   "file_extension": ".py",
   "mimetype": "text/x-python",
   "name": "python",
   "nbconvert_exporter": "python",
   "pygments_lexer": "ipython3",
   "version": "3.11.7"
  }
 },
 "nbformat": 4,
 "nbformat_minor": 2
}
