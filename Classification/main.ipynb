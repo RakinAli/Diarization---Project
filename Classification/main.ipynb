{
 "cells": [
  {
   "cell_type": "markdown",
   "metadata": {},
   "source": [
    "# Data preprocessing\n",
    "In this part of the notebook, we will preprocess the data to make it ready for training. We will do the following steps:\n",
    "1. Visualize the RTM data\n",
    "2. Check the sampling rate of the data and resample to consist to 16kHz to enssure uniformity across the dataset\n",
    "3. Extract MFCC features from the audio data and allign with the RTM data to create the final dataset\n",
    " \n"
   ]
  },
  {
   "cell_type": "code",
   "execution_count": 4,
   "metadata": {},
   "outputs": [],
   "source": [
    "# Visualize the RTM data\n",
    "\n",
    "# All importss\n",
    "import numpy as np\n",
    "import os\n",
    "import pandas as pd\n",
    "import matplotlib.pyplot as plt\n",
    "import librosa\n",
    "\n",
    "# Parse the dummy RTTM file\n",
    "def parse_rttm(file_path):\n",
    "    columns = [\n",
    "        \"Type\",\n",
    "        \"File ID\",\n",
    "        \"Channel ID\",\n",
    "        \"Turn Onset\",\n",
    "        \"Turn Duration\",\n",
    "        \"Orthography Field\",\n",
    "        \"Speaker Type\",\n",
    "        \"Speaker Name\",\n",
    "        \"Confidence Score\",\n",
    "        \"Signal Lookahead Time\",\n",
    "    ]\n",
    "    df = pd.read_csv(file_path, delim_whitespace=True, names=columns)\n",
    "    return df[[\"Turn Onset\", \"Turn Duration\", \"Speaker Name\"]]\n",
    "\n",
    "\n",
    "# Prepare the parsed data\n",
    "def prepare_data(rttm_data):\n",
    "    rttm_data[\"Turn Onset\"] = rttm_data[\"Turn Onset\"].astype(float)\n",
    "    rttm_data[\"Turn Duration\"] = rttm_data[\"Turn Duration\"].astype(float)\n",
    "    rttm_data[\"End Time\"] = rttm_data[\"Turn Onset\"] + rttm_data[\"Turn Duration\"]\n",
    "    return rttm_data\n",
    "\n",
    "\n",
    "# Plots the timeline of the speakers\n",
    "def plot_timeline(data):\n",
    "    fig, ax = plt.subplots(figsize=(12, 8))\n",
    "\n",
    "    speakers = data[\"Speaker Name\"].unique()\n",
    "    speaker_indices = {speaker: idx for idx, speaker in enumerate(speakers)}\n",
    "\n",
    "    for idx, row in data.iterrows():\n",
    "        start = row[\"Turn Onset\"]\n",
    "        end = row[\"End Time\"]\n",
    "        speaker = row[\"Speaker Name\"]\n",
    "        ax.plot([start, end], [speaker_indices[speaker]] * 2, linewidth=10)\n",
    "\n",
    "    ax.set_yticks(range(len(speakers)))\n",
    "    ax.set_yticklabels(speakers)\n",
    "    ax.set_xlabel(\"Time (s)\")\n",
    "    ax.set_ylabel(\"Speakers\")\n",
    "    ax.set_title(\"Speaker Timeline\")\n",
    "\n",
    "    plt.show()\n",
    "\n",
    "\n",
    "def debugger_test():\n",
    "    # Test the RTM data\n",
    "    rttm_data = parse_rttm(\"../Dataset/RTMS/Dev/abjxc.rttm\")\n",
    "    rttm_data = prepare_data(rttm_data)\n",
    "    plot_timeline(rttm_data)\n",
    "\n",
    "\n",
    "def debugger_run_all():\n",
    "    devRTM_path = \"../Dataset/RTMS/Dev/\"\n",
    "    # Visaualize all RTM data in the folder devRTM_path\n",
    "\n",
    "    # Get all the files in the folder\n",
    "    files = os.listdir(devRTM_path)\n",
    "    for file in files:\n",
    "        if file.endswith(\".rttm\"):\n",
    "            file_path = os.path.join(devRTM_path, file)\n",
    "            rttm_data = parse_rttm(file_path)\n",
    "            rttm_data = prepare_data(rttm_data)\n",
    "            plot_timeline(rttm_data)\n",
    "\n",
    "def \n"
   ]
  },
  {
   "cell_type": "code",
   "execution_count": 5,
   "metadata": {},
   "outputs": [
    {
     "name": "stderr",
     "output_type": "stream",
     "text": [
      "Downloading file 'sorohanro_-_solo-trumpet-06.ogg' from 'https://librosa.org/data/audio/sorohanro_-_solo-trumpet-06.ogg' to 'C:\\Users\\rakin\\AppData\\Local\\librosa\\librosa\\Cache'.\n"
     ]
    },
    {
     "name": "stdout",
     "output_type": "stream",
     "text": [
      "MFCC shape: (13, 230)\n",
      "librosa is working correctly.\n"
     ]
    }
   ],
   "source": []
  }
 ],
 "metadata": {
  "kernelspec": {
   "display_name": "base",
   "language": "python",
   "name": "python3"
  },
  "language_info": {
   "codemirror_mode": {
    "name": "ipython",
    "version": 3
   },
   "file_extension": ".py",
   "mimetype": "text/x-python",
   "name": "python",
   "nbconvert_exporter": "python",
   "pygments_lexer": "ipython3",
   "version": "3.9.19"
  }
 },
 "nbformat": 4,
 "nbformat_minor": 2
}
