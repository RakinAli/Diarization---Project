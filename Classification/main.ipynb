{
 "cells": [
  {
   "cell_type": "markdown",
   "metadata": {},
   "source": [
    "# Data preprocessing\n",
    "In this part of the notebook, we will preprocess the data to make it ready for training. We will do the following steps:\n",
    "1. Visualize the RTM data\n",
    "2. Check the sampling rate of the data and resample to consist to 16kHz to enssure uniformity across the dataset \n"
   ]
  },
  {
   "cell_type": "code",
   "execution_count": 13,
   "metadata": {},
   "outputs": [
    {
     "name": "stdout",
     "output_type": "stream",
     "text": [
      "Dataframe:\n",
      "    Turn Onset  Turn Duration Speaker Name\n",
      "0        0.40           6.64        spk00\n",
      "1        8.68          55.96        spk00\n",
      "Prepared Dataframe:\n",
      "    Turn Onset  Turn Duration Speaker Name  End Time\n",
      "0        0.40           6.64        spk00      7.04\n",
      "1        8.68          55.96        spk00     64.64\n"
     ]
    },
    {
     "data": {
      "image/png": "[encoded data removed]",
      "text/plain": [
       "<Figure size 1200x800 with 1 Axes>"
      ]
     },
     "metadata": {},
     "output_type": "display_data"
    }
   ],
   "source": [
    "# Visualize the RTM data\n",
    "\n",
    "# All importss\n",
    "import numpy as np\n",
    "import pandas as pd\n",
    "import matplotlib.pyplot as plt\n",
    "#     test_path = \"../Dataset/RTMS/Dev/abjxc.rttm\"\n",
    "\n",
    "\n",
    "# Parse the dummy RTTM file\n",
    "def parse_rttm(file_path):\n",
    "    columns = [\n",
    "        \"Type\",\n",
    "        \"File ID\",\n",
    "        \"Channel ID\",\n",
    "        \"Turn Onset\",\n",
    "        \"Turn Duration\",\n",
    "        \"Orthography Field\",\n",
    "        \"Speaker Type\",\n",
    "        \"Speaker Name\",\n",
    "        \"Confidence Score\",\n",
    "        \"Signal Lookahead Time\",\n",
    "    ]\n",
    "    df = pd.read_csv(file_path, delim_whitespace=True, names=columns)\n",
    "    return df[[\"Turn Onset\", \"Turn Duration\", \"Speaker Name\"]]\n",
    "\n",
    "\n",
    "# Prepare the parsed data\n",
    "def prepare_data(rttm_data):\n",
    "    rttm_data[\"Turn Onset\"] = rttm_data[\"Turn Onset\"].astype(float)\n",
    "    rttm_data[\"Turn Duration\"] = rttm_data[\"Turn Duration\"].astype(float)\n",
    "    rttm_data[\"End Time\"] = rttm_data[\"Turn Onset\"] + rttm_data[\"Turn Duration\"]\n",
    "    return rttm_data\n",
    "\n",
    "\n",
    "# Plot the timeline\n",
    "import matplotlib.pyplot as plt\n",
    "\n",
    "\n",
    "def plot_timeline(data):\n",
    "    fig, ax = plt.subplots(figsize=(12, 8))\n",
    "\n",
    "    speakers = data[\"Speaker Name\"].unique()\n",
    "    speaker_indices = {speaker: idx for idx, speaker in enumerate(speakers)}\n",
    "\n",
    "    for idx, row in data.iterrows():\n",
    "        start = row[\"Turn Onset\"]\n",
    "        end = row[\"End Time\"]\n",
    "        speaker = row[\"Speaker Name\"]\n",
    "        ax.plot([start, end], [speaker_indices[speaker]] * 2, linewidth=10)\n",
    "\n",
    "    ax.set_yticks(range(len(speakers)))\n",
    "    ax.set_yticklabels(speakers)\n",
    "    ax.set_xlabel(\"Time (s)\")\n",
    "    ax.set_ylabel(\"Speakers\")\n",
    "    ax.set_title(\"Speaker Timeline\")\n",
    "\n",
    "    plt.show()\n",
    "\n",
    "\n",
    "def debugger_test():\n",
    "    test_path = \"../Dataset/RTMS/Dev/abjxc.rttm\"\n",
    "\n",
    "    try:\n",
    "        df = parse_rttm(test_path)\n",
    "        print(\"Dataframe:\\n\", df.head())\n",
    "        df = prepare_data(df)\n",
    "        print(\"Prepared Dataframe:\\n\", df.head())\n",
    "    except FileNotFoundError:\n",
    "        print(f\"File not found: {test_path}\")\n",
    "    except Exception as e:\n",
    "        print(f\"An error occurred: {e}\")\n",
    "    \n",
    "    plot_timeline(df)\n",
    "\n",
    "\n",
    "debugger_test()"
   ]
  }
 ],
 "metadata": {
  "kernelspec": {
   "display_name": "base",
   "language": "python",
   "name": "python3"
  },
  "language_info": {
   "codemirror_mode": {
    "name": "ipython",
    "version": 3
   },
   "file_extension": ".py",
   "mimetype": "text/x-python",
   "name": "python",
   "nbconvert_exporter": "python",
   "pygments_lexer": "ipython3",
   "version": "3.9.13"
  }
 },
 "nbformat": 4,
 "nbformat_minor": 2
}
